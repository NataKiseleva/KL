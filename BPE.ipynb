{
  "nbformat": 4,
  "nbformat_minor": 0,
  "metadata": {
    "colab": {
      "name": "BPE.ipynb",
      "provenance": [],
      "authorship_tag": "ABX9TyMvOp6tcZaaGl/wsAXBpY4J",
      "include_colab_link": true
    },
    "kernelspec": {
      "name": "python3",
      "display_name": "Python 3"
    },
    "language_info": {
      "name": "python"
    }
  },
  "cells": [
    {
      "cell_type": "markdown",
      "metadata": {
        "id": "view-in-github",
        "colab_type": "text"
      },
      "source": [
        "<a href=\"https://colab.research.google.com/github/NataKiseleva/KL/blob/main/BPE.ipynb\" target=\"_parent\"><img src=\"https://colab.research.google.com/assets/colab-badge.svg\" alt=\"Open In Colab\"/></a>"
      ]
    },
    {
      "cell_type": "code",
      "metadata": {
        "id": "vf2la-EXWk3J"
      },
      "source": [
        "import pandas as pd\n",
        "import numpy as np\n",
        "from collections import Counter"
      ],
      "execution_count": 1,
      "outputs": []
    },
    {
      "cell_type": "code",
      "metadata": {
        "colab": {
          "base_uri": "https://localhost:8080/"
        },
        "id": "NGCdAFwJWrWY",
        "outputId": "5846bd77-5c63-406c-b0a1-1dbffbb0a876"
      },
      "source": [
        "!pip install tokenizers\n",
        "from sklearn.linear_model import LogisticRegression, SGDClassifier\n",
        "from sklearn.model_selection import train_test_split\n",
        "from sklearn.metrics import classification_report, accuracy_score\n",
        "from sklearn.metrics.pairwise import cosine_distances, cosine_similarity\n",
        "from tokenizers import CharBPETokenizer, Tokenizer\n",
        "from scipy.sparse import lil_matrix\n",
        "from sklearn.model_selection import cross_val_score"
      ],
      "execution_count": 2,
      "outputs": [
        {
          "output_type": "stream",
          "text": [
            "Collecting tokenizers\n",
            "\u001b[?25l  Downloading https://files.pythonhosted.org/packages/d4/e2/df3543e8ffdab68f5acc73f613de9c2b155ac47f162e725dcac87c521c11/tokenizers-0.10.3-cp37-cp37m-manylinux_2_5_x86_64.manylinux1_x86_64.manylinux_2_12_x86_64.manylinux2010_x86_64.whl (3.3MB)\n",
            "\u001b[K     |████████████████████████████████| 3.3MB 8.3MB/s \n",
            "\u001b[?25hInstalling collected packages: tokenizers\n",
            "Successfully installed tokenizers-0.10.3\n"
          ],
          "name": "stdout"
        }
      ]
    },
    {
      "cell_type": "code",
      "metadata": {
        "id": "_kit-xn2WwlR"
      },
      "source": [
        "def byte_pairs(text, iterators= 10, pairs=100):\n",
        "  d = set()\n",
        "  symbols = '-'.join(list(text))\n",
        "  for k in range(iterators):\n",
        "    list_pair = []\n",
        "    for i in range(len(text)):\n",
        "        list_pair.append(''.join(text[i:i+2]))\n",
        "\n",
        "    stat = Counter(list_pair)\n",
        "    result = dict(stat.most_common(pairs)).keys()\n",
        "    d.update(result)\n",
        "    for x in result:\n",
        "      e = len(x)//2\n",
        "      a = x[:e]\n",
        "      b = x[e:]\n",
        "      c = a + '-' + b\n",
        "      symbols = symbols.replace(c, a+'_'+b)\n",
        "\n",
        "    text = ''.join(symbols.split('-'))\n",
        "  symbols = symbols.replace('_', '')\n",
        "  return symbols,d"
      ],
      "execution_count": 60,
      "outputs": []
    },
    {
      "cell_type": "code",
      "metadata": {
        "id": "2kGbJIBiZGf4"
      },
      "source": [
        "text = open('lenta.txt', encoding= 'utf-8').read()[:4000]"
      ],
      "execution_count": 15,
      "outputs": []
    },
    {
      "cell_type": "code",
      "metadata": {
        "id": "QLxjsHwVZRGO"
      },
      "source": [
        "tokens, d = byte_pairs(text)"
      ],
      "execution_count": 61,
      "outputs": []
    },
    {
      "cell_type": "code",
      "metadata": {
        "id": "b-qP9eRYywg9"
      },
      "source": [
        "d"
      ],
      "execution_count": null,
      "outputs": []
    },
    {
      "cell_type": "code",
      "metadata": {
        "id": "DVZRlXhiy1-H"
      },
      "source": [
        "def tokenize(vocab, text):\n",
        "  dict1 = {'-'.join(list(v)): v for v in vocab}\n",
        "  chars = '-'.join(list(text))\n",
        "  for e in dict1:\n",
        "    chars = chars.replace(e, dict1[e])\n",
        "  return chars"
      ],
      "execution_count": 64,
      "outputs": []
    },
    {
      "cell_type": "code",
      "metadata": {
        "colab": {
          "base_uri": "https://localhost:8080/",
          "height": 191
        },
        "id": "BQMXhb6KaD3T",
        "outputId": "d9ebea80-6276-4d3c-a5dc-e67546dd2e5d"
      },
      "source": [
        "tokens"
      ],
      "execution_count": 17,
      "outputs": [
        {
          "output_type": "execute_result",
          "data": {
            "application/vnd.google.colaboratory.intrinsic+json": {
              "type": "string"
            },
            "text/plain": [
              "'Б-ои у С-опо-ц-кина и -Д-руск-еник закон-чились отступлением герман-цев-. Неприятель-, приблиз-ившись с севера к -О-сов-ц-у на-чал артиллерийск-у-ю борь-бу с крепость-ю-. В артиллерийском бо-ю принимают участие тя-желые калибры-. С- раннего у-тра 14 сентября огонь дости-г- зна-чительного напря-жения. Поп-ы-т-ка герман-ской пе-хоты пробиться бли-же к крепости отражена. В -Г-алиц-ии мы зан-яли -Д-ем-биц-у-. -Б-оль-шая колонна, отступавшая по -ш-оссе от П-еремы-ш-ля к С-анок-у-, об-стреливалась с вы-сот нашей батаре-ей и бежала, бросив пар-ки, обоз и ав-томобили. В-ылаз-ки г-арниз-она П-еремы-ш-ля остаются без-успешны-ми. При продол-жаю-щем-ся отступлении австрий-цев об-нару-жива-ется пол-но-е перемешивание их частей, за-х-ваты-ваются новые партии пленных-, ору-д-ия и про-чая матери-альная часть-. Н-а перевале -У-ж-ок мы раз-били неприятельский отря-д-, в-з-яли -его артиллери-ю и м-ного пленных и, продол-жая преследовать-, вступ-или в пределы В-ен-грии. -\\n-«-Р-усский ин-валид-»-, 1-6- сентября 1914 года.-М-инистер-ство народного просве-щения-, в в-иду проис-ход-я-щ-их ч-резвы-чайных собы-тий, признало со-ответственны-м в день годов-щ-ины со дн-я ро-ж-дения -М-.-Ю-. -Л-ермонтова -(-2---го ок-тября 1914 года-)- ограни-читься совер-шением в уч-е-б-ных заведения-х паних-ид-ы по по-э-ту-, от-ло-жив празднование -ю-биле-я до боле-е бла-гоприятного в-ремени. - -\\n-«-Р-усский ин-валид-»-, 1-6- сентября 1914 года.-Ш-та-б-с---кап-итан П-. Н-. Нестеров на дн-я-х-, у-в-идев в рай-оне -Ж-ел-тиева, в -Г-алиц-ии, летя-щ-ий над- нашим располо-жением австрийский а-э-роплан-, соби-равшийся бросить бом-бы-, в-з-летел на возду-х-, атаковал неприятеля и протаранил неприятельский ап-парат-, предотв-ратив жертвы в наших войска-х-. С-ам Нестеров при -э-том погиб- с-мерть-ю геро-я. По словам доставленных в -К-иев пленных австрийских о-ф-ицеров-, всей неприятельской армии -хоро-ш-о известно им-я Нестерова. В-о в-рем-я возду-шных разведок русских ав-и-аторов австрий-цы всег-да без-о-шибо-ч-но определяли, каким ап-паратом управлял Нестеров-. -К-ог-да показ-ы-вал-ся а-э-роплан---птиц-а, красиво и вольно паривший в возду-х-е-, австрий-цы у-каз-ы-вали -—- -D-a-s- -i-s-t- -N-e-s-t-e-r-o-f-f-!- -А-встрий-цы бо-ялись покойного-, и все их усилия были направлены к пре-кра-щени-ю -его де-ятельности. -З-а задер-жание отваж-ного лет-чика была об-ъ-я-влена боль-шая премия. Нестеров погиб- в -2-7- лет-. После Нестерова остались жена и д-во-е детей -—- дево-ч-ка, -5---ти лет-, и маль-чик-, -3---х лет-. -И-лл-ю-стри-рованный ж-у-рнал -«-И-скры-»- -№- -3-5-, сентябрь 1914 года - П-ес-нь о Нестерове В без-бреж-ности не-ба, в бескрайности -я-с-ной п-усты-ни-С-ражались лиш-ь птицы и гибли лиш-ь птицы доны-не-.-Т-ак птице подоб-ный, полет свой направ-ив мог-учий,-У-несся п-илот лег-кокрылый за тем-ные тучи.-А- там-, на з-ем-ле-, колых-ая-сь-, знамена -ш-у-мели, -И ля-з-г-али с-а-бли, и п-у-ш-ки з-лове-ще гремели.-И пламенно бог-у войны пос-ылал он молитвы-,-И о-чи горели и звали и жаж-дали битвы-…-В-ели-чие ду-х-а в рав-нине об-ман-чиво---з-ы-б-кой-.-През-рение с-мерти под- свет-ло-ю сол-н-ц-а улы-б-кой-…-М-оль-бы не напрас-ны-. В-елени-ю рока посл-у-шный,-Против-ник у-ж- ре-ет кру-г-ами в стих-ии возду-шной-И д-рог-н-уло сер-д-це-. -Р-у-ка, как пру-жина стальная-,-Н-а руль налег-ла. В-стрепен-улась машина живая-…-Ч-ти, род-ина, пам-ять геро-я-!- -Р-ешень-е соз-рело-М-г-новень-е -–- и в-резал-ся дер-з-ко он в -х-руп-ко-е тело-.-По-щ-ад-ы не зна-ет стих-ия. Победа на-градой-…-И пали против-ники гру-зной и страшной громадой-…-В без-бреж-ности не-ба, в бескрайности -я-с-ной п-усты-ни-С-ражались лиш-ь птицы и гибли лиш-ь птицы доны-не-. -Ж-у-рнал -«-Н-ива-»- -№-3-7-, сентябрь 1914 года-Ф-отогра-ф---кор-респон-дент -D-a-i-l-y- -M-i-r-r-o-r- рассказ-ы-ва-ет сл-учай, который пораду-ет все-х д-ру-з-ей животных-. -Л-ей-тенант бель-гийской артиллерии, ру-ковод-ивший обороной одного из -ф-ортов -Л-ь-ежа, ни за ч-то не -хотел расстаться с сво-ей собакой -—- буль-догом-. -К-ог-да прусс-аки пробрались меж-ду -ф-ортов в с-амый город-, о-ф-ицеру приш-ло в голов-у доверить буль-дог-у п-ись-мо-, в котором он пос-ылал успокоительн-у-ю весть своим род-ителя-м-. -Б-ла-городный пес ч-естно испол-нил сво-ю мисси-ю-. -Д-есять часов сп-устя буль-дог- проник обратно в -ф-орт и принес ответ-. С- -э-того момента буль-дог- стал насто-я-щ-им гон-ц-ом-. -М-ного раз проби-рал-ся он ч-ерез линии герман-ских войск-, неся на се-бе спрятанны-ми в о-шейник-е -ши-ф-рованные депеши.-\\n-Ж-у-рнал -«-Н-ива-»- -№-3-7-, сентябрь 1914 года-Л-иц-а, прие-х-авшие в В-ар-шав-у из -Л-ю-блина, передают-, ч-то ту-да доставлен -«-ш-ва-б-ский зверь-»- -—- в-з-ятый в плен прусский май-ор- Прейск-ер-, б'"
            ]
          },
          "metadata": {
            "tags": []
          },
          "execution_count": 17
        }
      ]
    },
    {
      "cell_type": "code",
      "metadata": {
        "id": "DoSKrkl0ail2"
      },
      "source": [
        "dictionary = set(tokens.split('-'))"
      ],
      "execution_count": 20,
      "outputs": []
    },
    {
      "cell_type": "code",
      "metadata": {
        "colab": {
          "base_uri": "https://localhost:8080/"
        },
        "id": "IngnmIurbDQm",
        "outputId": "4c790dad-de54-46b4-dd01-29b201e8eefb"
      },
      "source": [
        "len(dictionary)"
      ],
      "execution_count": 21,
      "outputs": [
        {
          "output_type": "execute_result",
          "data": {
            "text/plain": [
              "319"
            ]
          },
          "metadata": {
            "tags": []
          },
          "execution_count": 21
        }
      ]
    },
    {
      "cell_type": "code",
      "metadata": {
        "colab": {
          "base_uri": "https://localhost:8080/",
          "height": 35
        },
        "id": "jD_FuDr_bLVx",
        "outputId": "020d7995-7d6c-4d98-b921-2ce62282ff3f"
      },
      "source": [
        "max(dictionary, key = len)"
      ],
      "execution_count": 23,
      "outputs": [
        {
          "output_type": "execute_result",
          "data": {
            "application/vnd.google.colaboratory.intrinsic+json": {
              "type": "string"
            },
            "text/plain": [
              "'ся отступлении австрийцев обнаруживается полное перемешивание их частей, за'"
            ]
          },
          "metadata": {
            "tags": []
          },
          "execution_count": 23
        }
      ]
    },
    {
      "cell_type": "code",
      "metadata": {
        "id": "zyutF0gubnMH"
      },
      "source": [
        "tokens2 = byte_pairs(text, 5, 10)"
      ],
      "execution_count": 24,
      "outputs": []
    },
    {
      "cell_type": "code",
      "metadata": {
        "id": "-1xCGNQRbulb"
      },
      "source": [
        "dictionary2 = set(tokens2.split('-'))"
      ],
      "execution_count": 25,
      "outputs": []
    },
    {
      "cell_type": "code",
      "metadata": {
        "colab": {
          "base_uri": "https://localhost:8080/"
        },
        "id": "aVPEEdFAbzs7",
        "outputId": "ded45ee0-2d67-49ba-f984-833ed28db1c3"
      },
      "source": [
        "len(dictionary2)"
      ],
      "execution_count": 26,
      "outputs": [
        {
          "output_type": "execute_result",
          "data": {
            "text/plain": [
              "113"
            ]
          },
          "metadata": {
            "tags": []
          },
          "execution_count": 26
        }
      ]
    },
    {
      "cell_type": "code",
      "metadata": {
        "colab": {
          "base_uri": "https://localhost:8080/",
          "height": 35
        },
        "id": "hfoocJh3b3l9",
        "outputId": "ecac0686-0cb9-4b59-e0db-594ce5517f54"
      },
      "source": [
        "max(dictionary2, key = len)"
      ],
      "execution_count": 27,
      "outputs": [
        {
          "output_type": "execute_result",
          "data": {
            "application/vnd.google.colaboratory.intrinsic+json": {
              "type": "string"
            },
            "text/plain": [
              "'ли про'"
            ]
          },
          "metadata": {
            "tags": []
          },
          "execution_count": 27
        }
      ]
    },
    {
      "cell_type": "code",
      "metadata": {
        "id": "WJ3IctEUb8Jc"
      },
      "source": [
        "tokens3 = byte_pairs(text, 5, 100)"
      ],
      "execution_count": 28,
      "outputs": []
    },
    {
      "cell_type": "code",
      "metadata": {
        "id": "6pXaI4FicAY1"
      },
      "source": [
        "dictionary3 = set(tokens3.split('-'))"
      ],
      "execution_count": 29,
      "outputs": []
    },
    {
      "cell_type": "code",
      "metadata": {
        "colab": {
          "base_uri": "https://localhost:8080/"
        },
        "id": "ih0lYOxycFPG",
        "outputId": "d6ed1043-d06e-425f-9bea-af99da06593e"
      },
      "source": [
        "len(dictionary3)"
      ],
      "execution_count": 30,
      "outputs": [
        {
          "output_type": "execute_result",
          "data": {
            "text/plain": [
              "472"
            ]
          },
          "metadata": {
            "tags": []
          },
          "execution_count": 30
        }
      ]
    },
    {
      "cell_type": "code",
      "metadata": {
        "colab": {
          "base_uri": "https://localhost:8080/",
          "height": 35
        },
        "id": "qSWs--8ncI3l",
        "outputId": "bfab0dbb-bc06-450c-942f-2edfba474879"
      },
      "source": [
        "max(dictionary3, key = len)"
      ],
      "execution_count": 31,
      "outputs": [
        {
          "output_type": "execute_result",
          "data": {
            "application/vnd.google.colaboratory.intrinsic+json": {
              "type": "string"
            },
            "text/plain": [
              "', атаковал неприятеля и протаранил неприятельский ап'"
            ]
          },
          "metadata": {
            "tags": []
          },
          "execution_count": 31
        }
      ]
    },
    {
      "cell_type": "code",
      "metadata": {
        "id": "1L-gPlhAcM3Q"
      },
      "source": [
        "tokens4 = byte_pairs(text, 50, 10)"
      ],
      "execution_count": 32,
      "outputs": []
    },
    {
      "cell_type": "code",
      "metadata": {
        "id": "ne5PLLGBcT9d"
      },
      "source": [
        "dictionary4 = set(tokens4.split('-'))"
      ],
      "execution_count": 33,
      "outputs": []
    },
    {
      "cell_type": "code",
      "metadata": {
        "colab": {
          "base_uri": "https://localhost:8080/"
        },
        "id": "1FmsopFCcXAY",
        "outputId": "5983747b-6c50-4d9a-94c9-2c1e51cfc76e"
      },
      "source": [
        "len(dictionary4)"
      ],
      "execution_count": 34,
      "outputs": [
        {
          "output_type": "execute_result",
          "data": {
            "text/plain": [
              "113"
            ]
          },
          "metadata": {
            "tags": []
          },
          "execution_count": 34
        }
      ]
    },
    {
      "cell_type": "code",
      "metadata": {
        "colab": {
          "base_uri": "https://localhost:8080/",
          "height": 35
        },
        "id": "DcAeDOhWcaX0",
        "outputId": "71cbab7b-4dcb-4e1e-b5aa-d7462eedefa8"
      },
      "source": [
        "max(dictionary4, key = len)"
      ],
      "execution_count": 35,
      "outputs": [
        {
          "output_type": "execute_result",
          "data": {
            "application/vnd.google.colaboratory.intrinsic+json": {
              "type": "string"
            },
            "text/plain": [
              "'ли про'"
            ]
          },
          "metadata": {
            "tags": []
          },
          "execution_count": 35
        }
      ]
    },
    {
      "cell_type": "code",
      "metadata": {
        "id": "dg8RbnKWcyWV"
      },
      "source": [
        "text2 = open('lenta.txt', encoding= 'utf-8').read()[4000:8000]"
      ],
      "execution_count": 36,
      "outputs": []
    },
    {
      "cell_type": "code",
      "metadata": {
        "id": "zRtMxAoszPza"
      },
      "source": [
        "result = tokenize(d, text2)"
      ],
      "execution_count": 65,
      "outputs": []
    },
    {
      "cell_type": "code",
      "metadata": {
        "colab": {
          "base_uri": "https://localhost:8080/",
          "height": 191
        },
        "id": "nGSVtHboza0n",
        "outputId": "103aaa12-fbc0-4e3f-afd0-b3bac2aecf98"
      },
      "source": [
        "result"
      ],
      "execution_count": 66,
      "outputs": [
        {
          "output_type": "execute_result",
          "data": {
            "application/vnd.google.colaboratory.intrinsic+json": {
              "type": "string"
            },
            "text/plain": [
              "'ывший комен-дант К-алиша. -Э-то — здоровый детина, с ти-пи-ч-но прусским наг-лым лиц-ом и м-у-тными г-лазами. К-огда -этого «-зверя-» вели с партией пленных по улице и из тол-п-ы раздались крики и прок-лятия-, Прейскер- трусливо замешался в тол-пу пленных, стараясь скры-ться. -З-ато в зак-л-ю-чении, под- кон-воем наших сол-дат, Прейскер- принял пришед-шего к нем-у русского о-ф-ицера сид-я-, наг-ло развалившись в кресле. К-он-войные «-помог-ли-» -ем-у подняться и вы-тя-ну-ться во ф-ронт. К-роме Прейскера, нашими войсками вз-ят в плен и д-ру-гой «-ш-вабский зверь-» — капитан -Ш-мид-т, жив-ьем с-жи-гавший жителей деревень, запирая их в хата-х-. -Ж-урнал «-Н-ива-» №-3-8- от -2-0- сентября 1914 года-К-ак стало известно агентств-у -А-ссоши-э-й-тед- Пресс-, -э-ки-паж- последней -э-к-спедиц-ии на станц-ию -\"-М-ир-\"- с-читает -ее способной вый-ти из---под- контроля.-К-оман-дир- В-ик-тор- -А-ф-анасьев сказал-:- -\"-М-ы ч-у-вств-у-ем себ-я хорош-о-, но грустим-, ч-то оставили станц-ию летать в беспилотном режиме.-\"- -G-a-z-e-t-a- -R-u- под-робно писала о том-, ч-то ф-инан-сирование програм-мы -\"-М-ир-\"- закры-то-, но кон-струк-торы не спешат топить -ее в -Т-ихом оке-ане-, наде-ясь на изы-скание внеб-ю-д-жетных с-ред-ств-.-О-ни наде-ются-, ч-то правительство оплатит ф-инальну-ю -э-к-спедиц-ию на -\"-М-ир-\"- в ф-еврале или марте -2-0-0-0- года. Н-овая -э-к-спедиц-ия дол-жна постепенно перевести станц-ию на низ-к-у-ю ор-биту-, после чего 14-0--- тонный -\"-М-ир-\"- в основном с-горит в ат-мос-ф-ере-, а незна-чительные -его части упаду-т в -Т-ихий оке-ан-. Н-о нет никакой гарантии, ч-то пережившая столь-ко от-каз-ов обору-дования кон-струк-ц-ия поведет себ-я аде-к-ватно коман-дам. -А-ф-анасьев пере-числил потенц-и-ально опасные -э-лементы -\"-М-ира-\"- на пресс--- кон-ф-еренц-ии, состоя-вшейся в понедельник в -З-вездном -Г-ород-ке. -\"-М-ожет упасть давление в кабине-,--- сказал он-,--- и -это станет серьезным преп-ятствием д-ля работы следу-ю-щей -э-к-спедиц-ии. С-лиш-ком велика роль -\"-челове-ческого ф-ак-тора-\"- -, -э-лементарная ошиб-ка может привести как к потере топлива, так и к потере ориента-ц-ии.-\"- -А-мерикан-ское кос-ми-ческое агентство по а-э-ронав-тике и кос-ми-ческом-у простран-ств-у пред-лагало -Р-оссии затопить -\"-М-ир-\"-, а -его рес-ур-с-ы перевести на между-народну-ю кос-ми-ческ-у-ю станц-ию-. Н-о -Р-оссия не хочет расставаться с леген-дарным сим-волом.-В зале и-гровых ав-томатов в третьем -я-русе под-з-ем-ного ком-пле-к-са -\"-О-хотный ря-д-\"- на -М-анежной пло-щ-ади в -центре -М-оск-вы около -2-0-.-0-0- прогремел мо-щ-ный вз-рыв-. По данным -Ф-С-Б-, погибли не менее четы-рех челове-к-, -2-0- челове-к ранены-. -О-днако у-точ-ненная о-цен-ка числа пострадавших в рез-уль-тате -этого вз-рыва может дости-г-ну-ть ста челове-к-. -А-гентство -И-Т-А-Р---Т-А-С-С-, в со-об-щении от -2-1-.-1-5- со сс-ыл-кой на источ-ники в -Г-У-В-Д- -М-оск-вы-, говорит толь-ко о -3-0- раненых, в том числе о д-в-ух пострадавших в тя-желом состоя-нии. -О-днако число пострадавших в рез-уль-тате -этого вз-рыва может составить до ста челове-к-. По данным -Р-И-А- -\"-Н-овости-\"-, -Бот-кин-ская больница, -И-н-ститу-т им. С-к-ли-фосовского-, 1---ая -Г-рад-ская-, -3-6---ая и -6-4---ая гор-больница работают толь-ко на прием пострадавших-. С- места проис-шествия запросили -2-0- машин скорой помо-щи. -И-з тор-гового -центра -э-вак-у-ированы все посетитетели. С-реди при-чин проис-шед-шего называют тер-рористи-ческий ак-т, св-я-занный с последними собы-тия-ми в Д-агестане-, однако-, по со-об-щению -О-Р-Т-, не иск-л-ю-чается и вер-сия об- аварии -(-вз-ор-вался и-гровой ав-томат-)-. -Более точ-ных данных о при-ч-на-х вз-рыва и коли-честве жертв пред-ставители -У-Ф-С-Б- называть не тороп-ятся.-Я-пония приняла решение раз-мороз-ить кредиты -Р-оссии на с-у-м-м-у в пол-тора милли-ар-да долларов-. -О-б- -этом зая-вил сегодня после встре-чи с прем-ьер---министром -Я-понии вице---прем-ьер- правительства -Р-оссии В-ик-тор- -Х-ристен-ко-. -О-н прибыл в -Т-оки-о во г-лаве делега-ц-ии д-ля участия в заседании - российско---я-пон-ской меж-правительственной комиссии по тор-гово---э-кономи-ческим - вопросам-, которое - на-ч-нется в - с-реду - в -Т-оки-о-. -О-дин из участников под-готов-ки -этого заседания со-об-щил -\"-И-нтер-ф-ак-с-у-\"-, ч-то -Х-ристен-ко постарается на кон-кретных макро-э-кономи-ческих показателя-х - за последние - меся-цы доказать, ч-то -э-кономика -Р-оссии становится более стабильной и у-бедить -Я-понию в своей платежеспособности и партнер-ской надежности. -\"-Е-сли на заседании - комиссии -я-пон-ская сторона бу-дет у-довлетворена -этими данными, то м-ногие российско---я-пон-ские прое-к-ты по ул-уч-шению - -э-кономики дальневост'"
            ]
          },
          "metadata": {
            "tags": []
          },
          "execution_count": 66
        }
      ]
    },
    {
      "cell_type": "code",
      "metadata": {
        "id": "wdzdGZoQzigx"
      },
      "source": [
        "dictionary5 = set(result.split('-'))"
      ],
      "execution_count": 67,
      "outputs": []
    },
    {
      "cell_type": "code",
      "metadata": {
        "colab": {
          "base_uri": "https://localhost:8080/"
        },
        "id": "r4Yyxtfxzuhp",
        "outputId": "f7329540-b687-484d-c5aa-58a301b5ab23"
      },
      "source": [
        "len(dictionary5)"
      ],
      "execution_count": 68,
      "outputs": [
        {
          "output_type": "execute_result",
          "data": {
            "text/plain": [
              "447"
            ]
          },
          "metadata": {
            "tags": []
          },
          "execution_count": 68
        }
      ]
    },
    {
      "cell_type": "code",
      "metadata": {
        "colab": {
          "base_uri": "https://localhost:8080/",
          "height": 35
        },
        "id": "vaxwXFo8zys1",
        "outputId": "e6c85217-1de5-4891-cc24-592fd0f61138"
      },
      "source": [
        "max(dictionary5, key = len)"
      ],
      "execution_count": 69,
      "outputs": [
        {
          "output_type": "execute_result",
          "data": {
            "application/vnd.google.colaboratory.intrinsic+json": {
              "type": "string"
            },
            "text/plain": [
              "'ка может привести как к потере топлива, так и к потере ориента'"
            ]
          },
          "metadata": {
            "tags": []
          },
          "execution_count": 69
        }
      ]
    },
    {
      "cell_type": "markdown",
      "metadata": {
        "id": "CfR9rWiI0ABm"
      },
      "source": [
        "Длина словаря стала меньше, чем для первоначального текста для таких же параметров, но словарь все еще подходит "
      ]
    },
    {
      "cell_type": "code",
      "metadata": {
        "id": "em2G_JFwc9Vx"
      },
      "source": [
        "data = pd.read_csv('dataset_ok.csv')"
      ],
      "execution_count": 37,
      "outputs": []
    },
    {
      "cell_type": "code",
      "metadata": {
        "id": "FYmcI95keLNc"
      },
      "source": [
        "train_texts, test_texts, train_labels, test_labels = train_test_split(data.text, data.label, \n",
        "                                                                      test_size=0.1, shuffle=True, random_state=21)"
      ],
      "execution_count": 38,
      "outputs": []
    },
    {
      "cell_type": "code",
      "metadata": {
        "id": "pKtm-MyQeRuw"
      },
      "source": [
        "data['text'].to_csv('text3.txt', index=None)"
      ],
      "execution_count": 39,
      "outputs": []
    },
    {
      "cell_type": "code",
      "metadata": {
        "id": "Jd9iG-kSebAv"
      },
      "source": [
        "token = CharBPETokenizer()\n",
        "token.train('text3.txt')\n",
        "token.save('train')\n",
        "token = Tokenizer.from_file(\"train\")"
      ],
      "execution_count": 41,
      "outputs": []
    },
    {
      "cell_type": "code",
      "metadata": {
        "id": "aXx0O02ufGTq"
      },
      "source": [
        "def make_matrix(file):   \n",
        "  docs = file.to_list()\n",
        "  docs_tokenize = []\n",
        "  for doc in docs:\n",
        "    s = token.encode(doc).ids\n",
        "    docs_tokenize.append(s)\n",
        "\n",
        "  #idf\n",
        "  all_words = set([item for elem in docs_tokenize for item in elem])\n",
        "  dict_words = Counter()\n",
        "  for x in all_words:\n",
        "    for doc in docs_tokenize:\n",
        "      if x in doc:\n",
        "        dict_words[x] += 1\n",
        "  dict_words = {k: np.log(len(docs_tokenize)/dict_words[k]) for k in dict_words}\n",
        "\n",
        "  tf_idf = []\n",
        "  for doc in docs_tokenize:\n",
        "    d = {}\n",
        "    for word in doc:\n",
        "      cnt = doc.count(word)/len(doc)\n",
        "      d[word] = cnt*dict_words[word]\n",
        "    tf_idf.append(d)\n",
        "\n",
        "  matrix_text = lil_matrix((len(docs), token.get_vocab_size()))\n",
        "  \n",
        "  for i, x in enumerate(tf_idf):\n",
        "    for y in x.keys():\n",
        "      matrix_text[i, y] = tf_idf[i][y]\n",
        "  \n",
        "  return matrix_text"
      ],
      "execution_count": 52,
      "outputs": []
    },
    {
      "cell_type": "code",
      "metadata": {
        "id": "o19h4lRZhOcU"
      },
      "source": [
        "X_train = make_matrix(train_texts)\n",
        "X_test = make_matrix(test_texts)\n",
        "y_train = np.array(train_labels)\n",
        "y_test = np.array(test_labels)"
      ],
      "execution_count": 54,
      "outputs": []
    },
    {
      "cell_type": "code",
      "metadata": {
        "id": "bh-waD4Tx3NM"
      },
      "source": [
        "classificstion = SGDClassifier(loss=\"log\", max_iter=30, alpha=0.0001, class_weight='balanced', n_jobs=-1)\n",
        "\n",
        "classificstion.fit(X_train, y_train)\n",
        "preds = classificstion.predict(X_test)"
      ],
      "execution_count": 55,
      "outputs": []
    },
    {
      "cell_type": "code",
      "metadata": {
        "colab": {
          "base_uri": "https://localhost:8080/"
        },
        "id": "HglOFc6syDqC",
        "outputId": "2b4cbc03-67c9-46a9-bacc-9cbb9d7c37f8"
      },
      "source": [
        "print(classification_report(y_test, preds))"
      ],
      "execution_count": 57,
      "outputs": [
        {
          "output_type": "stream",
          "text": [
            "              precision    recall  f1-score   support\n",
            "\n",
            "      INSULT       0.90      0.51      0.65       869\n",
            "      NORMAL       0.93      0.99      0.96      6091\n",
            "   OBSCENITY       0.82      0.65      0.73        72\n",
            "      THREAT       0.84      0.73      0.78       167\n",
            "\n",
            "    accuracy                           0.92      7199\n",
            "   macro avg       0.87      0.72      0.78      7199\n",
            "weighted avg       0.92      0.92      0.91      7199\n",
            "\n"
          ],
          "name": "stdout"
        }
      ]
    },
    {
      "cell_type": "code",
      "metadata": {
        "colab": {
          "base_uri": "https://localhost:8080/"
        },
        "id": "XqoKfmJ4yVkz",
        "outputId": "0eace5e1-89d7-411e-87e6-8214ab5bc5d6"
      },
      "source": [
        "cross_val_score(classificstion, X_train, y_train, scoring=\"f1_micro\")"
      ],
      "execution_count": 58,
      "outputs": [
        {
          "output_type": "execute_result",
          "data": {
            "text/plain": [
              "array([0.92004939, 0.91364408, 0.91688532, 0.9161843 , 0.92235857])"
            ]
          },
          "metadata": {
            "tags": []
          },
          "execution_count": 58
        }
      ]
    },
    {
      "cell_type": "code",
      "metadata": {
        "colab": {
          "base_uri": "https://localhost:8080/"
        },
        "id": "GvnsJpJVyfTW",
        "outputId": "a79265f0-d43d-4413-ef5d-d72dfb78a7b0"
      },
      "source": [
        "cross_val_score(classificstion, X_train, y_train, scoring=\"f1_macro\")"
      ],
      "execution_count": 59,
      "outputs": [
        {
          "output_type": "execute_result",
          "data": {
            "text/plain": [
              "array([0.74922404, 0.73048798, 0.73222906, 0.73813561, 0.74290294])"
            ]
          },
          "metadata": {
            "tags": []
          },
          "execution_count": 59
        }
      ]
    }
  ]
}