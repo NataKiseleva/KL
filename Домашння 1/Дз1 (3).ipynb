{
  "nbformat": 4,
  "nbformat_minor": 0,
  "metadata": {
    "colab": {
      "name": "Дз1.ipynb",
      "provenance": [],
      "collapsed_sections": []
    },
    "kernelspec": {
      "name": "python3",
      "display_name": "Python 3"
    }
  },
  "cells": [
    {
      "cell_type": "markdown",
      "metadata": {
        "id": "LGiWt-R42K15"
      },
      "source": [
        "Установлю все, что нужно"
      ]
    },
    {
      "cell_type": "code",
      "metadata": {
        "id": "1Ea0khsqVfQn"
      },
      "source": [
        "!pip install pymystem3==0.1.10\r\n",
        "!pip install pymorphy2[fast]\r\n",
        "!pip install razdel\r\n",
        "!pip install gensim\r\n",
        "!pip install nltk\r\n",
        "!pip install rusenttokenize\r\n",
        "!pip install regex"
      ],
      "execution_count": null,
      "outputs": []
    },
    {
      "cell_type": "code",
      "metadata": {
        "id": "mzWfYUdlWnG8"
      },
      "source": [
        "import string\r\n",
        "from gensim.utils import tokenize\r\n",
        "from gensim.summarization.textcleaner import split_sentences\r\n",
        "from rusenttokenize import ru_sent_tokenize\r\n",
        "from razdel import sentenize\r\n",
        "from razdel import tokenize as razdel_tokenize\r\n",
        "from nltk import sent_tokenize\r\n",
        "from nltk.tokenize import word_tokenize, wordpunct_tokenize\r\n",
        "from pymorphy2 import MorphAnalyzer\r\n",
        "from pymystem3 import Mystem\r\n",
        "from nltk.corpus import stopwords\r\n",
        "from string import punctuation\r\n",
        "import re, os, json\r\n",
        "mystem = Mystem()\r\n",
        "morph = MorphAnalyzer()"
      ],
      "execution_count": 4,
      "outputs": []
    },
    {
      "cell_type": "markdown",
      "metadata": {
        "id": "tNv5HjBG2TPF"
      },
      "source": [
        "Загружу файлик с текстом"
      ]
    },
    {
      "cell_type": "code",
      "metadata": {
        "colab": {
          "resources": {
            "http://localhost:8080/nbextensions/google.colab/files.js": {
              "data": "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",
              "ok": true,
              "headers": [
                [
                  "content-type",
                  "application/javascript"
                ]
              ],
              "status": 200,
              "status_text": ""
            }
          },
          "base_uri": "https://localhost:8080/",
          "height": 73
        },
        "id": "j76dkHesYP8v",
        "outputId": "efef60ab-0317-47c0-b9fe-853cf418470c"
      },
      "source": [
        "from google.colab import files \r\n",
        "uploaded = files.upload()"
      ],
      "execution_count": 5,
      "outputs": [
        {
          "output_type": "display_data",
          "data": {
            "text/html": [
              "\n",
              "     <input type=\"file\" id=\"files-7a91833a-3fc5-4457-a5fe-b6075db84a1c\" name=\"files[]\" multiple disabled\n",
              "        style=\"border:none\" />\n",
              "     <output id=\"result-7a91833a-3fc5-4457-a5fe-b6075db84a1c\">\n",
              "      Upload widget is only available when the cell has been executed in the\n",
              "      current browser session. Please rerun this cell to enable.\n",
              "      </output>\n",
              "      <script src=\"/nbextensions/google.colab/files.js\"></script> "
            ],
            "text/plain": [
              "<IPython.core.display.HTML object>"
            ]
          },
          "metadata": {
            "tags": []
          }
        },
        {
          "output_type": "stream",
          "text": [
            "Saving d1.txt to d1.txt\n"
          ],
          "name": "stdout"
        }
      ]
    },
    {
      "cell_type": "code",
      "metadata": {
        "id": "qcSMwxVCaJtZ"
      },
      "source": [
        "def remove_tags_3(text):\r\n",
        "    no_tags_text = re.sub(r'<[^>]+>', ' ', text)\r\n",
        "    no_space_sequences_text = re.sub('  +', ' ', no_tags_text)\r\n",
        "    return no_space_sequences_text"
      ],
      "execution_count": 6,
      "outputs": []
    },
    {
      "cell_type": "code",
      "metadata": {
        "id": "0CSHsBKpaRDK"
      },
      "source": [
        "text = open('d1.txt', encoding='UTF8')"
      ],
      "execution_count": 7,
      "outputs": []
    },
    {
      "cell_type": "code",
      "metadata": {
        "id": "au_1zO8QbElw"
      },
      "source": [
        "text2 = text.readlines()"
      ],
      "execution_count": 11,
      "outputs": []
    },
    {
      "cell_type": "markdown",
      "metadata": {
        "id": "EwKhVQKe2c8R"
      },
      "source": [
        "Избавлюсь от тегов"
      ]
    },
    {
      "cell_type": "code",
      "metadata": {
        "id": "tmNISA8haowf"
      },
      "source": [
        "for line in text2:\r\n",
        "  print(remove_tags_3(line))"
      ],
      "execution_count": null,
      "outputs": []
    },
    {
      "cell_type": "code",
      "metadata": {
        "id": "5wz2iuu_cgTb"
      },
      "source": [
        "def hascyr(s):\r\n",
        "  lower = set('абвгдеёжзийклмнопрстуфхцчшщъыьэюя')\r\n",
        "  return lower.intersection(s.lower()) != set()"
      ],
      "execution_count": 15,
      "outputs": []
    },
    {
      "cell_type": "code",
      "metadata": {
        "id": "14erXKZgcrCU"
      },
      "source": [
        "lines = []\r\n",
        "for line in text2:\r\n",
        "  lines.append(remove_tags_3(line))"
      ],
      "execution_count": 16,
      "outputs": []
    },
    {
      "cell_type": "markdown",
      "metadata": {
        "id": "lspY-mUJ2kH9"
      },
      "source": [
        "Удалю строки с кучей английских символов"
      ]
    },
    {
      "cell_type": "code",
      "metadata": {
        "id": "jI3RlyUyc_As"
      },
      "source": [
        "text4 = []\r\n",
        "for i in lines:\r\n",
        "  if hascyr(i) == True:\r\n",
        "    text4.append(i)"
      ],
      "execution_count": 17,
      "outputs": []
    },
    {
      "cell_type": "code",
      "metadata": {
        "id": "Ur_qHkjjdXbG"
      },
      "source": [
        "for t in text4:\r\n",
        "  print(t)"
      ],
      "execution_count": null,
      "outputs": []
    },
    {
      "cell_type": "markdown",
      "metadata": {
        "id": "pDVGAB8l2wxe"
      },
      "source": [
        "Соединю строки"
      ]
    },
    {
      "cell_type": "code",
      "metadata": {
        "id": "U-ObSktGflDs"
      },
      "source": [
        "string = ''\r\n",
        "for t in text4:\r\n",
        "  string += t.split('\\n')[0]\r\n",
        "print(string)"
      ],
      "execution_count": null,
      "outputs": []
    },
    {
      "cell_type": "markdown",
      "metadata": {
        "id": "J1U1xFK720zE"
      },
      "source": [
        "Разобью на предложения"
      ]
    },
    {
      "cell_type": "code",
      "metadata": {
        "id": "ocVhp1-Hf3fN"
      },
      "source": [
        "text5 = re.split('(?<=[\\.?!]) +(?=[А-ЯЁ])', string.replace('\\n', ' '))"
      ],
      "execution_count": 24,
      "outputs": []
    },
    {
      "cell_type": "code",
      "metadata": {
        "id": "lJGAE8X0hEDQ"
      },
      "source": [
        "text6 = []\r\n",
        "for m in text5:\r\n",
        "  m = m.lower()\r\n",
        "  text6.append(m)\r\n",
        "print(text6)"
      ],
      "execution_count": null,
      "outputs": []
    },
    {
      "cell_type": "code",
      "metadata": {
        "id": "2IIjLscsinFY"
      },
      "source": [
        "import string\r\n",
        "tt = str.maketrans(dict.fromkeys(string.punctuation))"
      ],
      "execution_count": 26,
      "outputs": []
    },
    {
      "cell_type": "code",
      "metadata": {
        "id": "lZC6hQlqitxB"
      },
      "source": [
        "text7 = []\r\n",
        "for k in text6:\r\n",
        "  text7.append(k.translate(tt))\r\n",
        "print(text7)"
      ],
      "execution_count": null,
      "outputs": []
    },
    {
      "cell_type": "markdown",
      "metadata": {
        "id": "hhGHjyJX27Fr"
      },
      "source": [
        "Удалю кавычки"
      ]
    },
    {
      "cell_type": "code",
      "metadata": {
        "id": "7mM85MnPkP3O"
      },
      "source": [
        "text8 = []\r\n",
        "st = ''\r\n",
        "for b in text7:\r\n",
        "  for b2 in b:\r\n",
        "    if b2 != '«' and b2 != '»':\r\n",
        "      st += b2\r\n",
        "  text8.append(st)\r\n",
        "  st = ''\r\n",
        "print(text8)"
      ],
      "execution_count": null,
      "outputs": []
    },
    {
      "cell_type": "markdown",
      "metadata": {
        "id": "Gn1oKdos2-4n"
      },
      "source": [
        "Посчитаю одинаковые предложения"
      ]
    },
    {
      "cell_type": "code",
      "metadata": {
        "id": "L582Za17uEPU"
      },
      "source": [
        "from collections import Counter\r\n",
        "sl = Counter(text8)"
      ],
      "execution_count": 29,
      "outputs": []
    },
    {
      "cell_type": "code",
      "metadata": {
        "id": "r297-WvVuXHq"
      },
      "source": [
        "print(Counter(text8))"
      ],
      "execution_count": null,
      "outputs": []
    },
    {
      "cell_type": "code",
      "metadata": {
        "id": "STtSGdpgvc0O"
      },
      "source": [
        "dict(Counter(text8).most_common(100))"
      ],
      "execution_count": null,
      "outputs": []
    },
    {
      "cell_type": "markdown",
      "metadata": {
        "id": "8kjRbeUXv0W-"
      },
      "source": [
        "Задание 2. Пункт 1.\r\n",
        "Такие предложения есть, и их довольно много.\r\n",
        "Вот примеры:\r\n",
        "\r\n",
        "1.   свеча горела на столе свеча горела - 3\r\n",
        "2.   потом пришла война разруха и долгодолго о тебе ни слуху не было ни духу - 2\r\n"
      ]
    },
    {
      "cell_type": "code",
      "metadata": {
        "colab": {
          "base_uri": "https://localhost:8080/"
        },
        "id": "QPExSt0oxDiu",
        "outputId": "f03988db-3a4c-4415-9d09-91c76bd5f224"
      },
      "source": [
        "string2 = ''\r\n",
        "for slot in text8:\r\n",
        "  string2 += slot.split('\\n')[0]\r\n",
        "list(razdel_tokenize(string2))[:10]"
      ],
      "execution_count": 35,
      "outputs": [
        {
          "output_type": "execute_result",
          "data": {
            "text/plain": [
              "[Substring(1, 6, 'борис'),\n",
              " Substring(7, 17, 'леонидович'),\n",
              " Substring(18, 27, 'пастернак'),\n",
              " Substring(29, 35, 'доктор'),\n",
              " Substring(36, 42, 'живаго'),\n",
              " Substring(44, 50, 'доктор'),\n",
              " Substring(51, 57, 'живаго'),\n",
              " Substring(59, 67, 'итоговое'),\n",
              " Substring(68, 80, 'произведение'),\n",
              " Substring(81, 87, 'бориса')]"
            ]
          },
          "metadata": {
            "tags": []
          },
          "execution_count": 35
        }
      ]
    },
    {
      "cell_type": "code",
      "metadata": {
        "colab": {
          "base_uri": "https://localhost:8080/"
        },
        "id": "_JJaPTY2yr1u",
        "outputId": "ede8ab43-e4a4-49c7-9a86-a882db91081b"
      },
      "source": [
        "list3 = []\r\n",
        "for slot2 in [token.text for token in list(razdel_tokenize(string2))]:\r\n",
        "  if len(slot2) > 6:\r\n",
        "    list3.append(slot2)\r\n",
        "dict(Counter(list3).most_common(10))\r\n"
      ],
      "execution_count": 41,
      "outputs": [
        {
          "output_type": "execute_result",
          "data": {
            "text/plain": [
              "{'андреевич': 273,\n",
              " 'андреевича': 65,\n",
              " 'говорит': 65,\n",
              " 'доктора': 71,\n",
              " 'которой': 76,\n",
              " 'которые': 86,\n",
              " 'который': 103,\n",
              " 'которых': 66,\n",
              " 'несколько': 103,\n",
              " 'человек': 87}"
            ]
          },
          "metadata": {
            "tags": []
          },
          "execution_count": 41
        }
      ]
    },
    {
      "cell_type": "markdown",
      "metadata": {
        "id": "HJyc6pAB0dEN"
      },
      "source": [
        "Задание 2. Пункт 2. Наиболее частый токен в тексте: андреевич - 273 повторения"
      ]
    },
    {
      "cell_type": "code",
      "metadata": {
        "id": "YAG5Ppxq1emS"
      },
      "source": [
        "from nltk.stem.snowball import SnowballStemmer"
      ],
      "execution_count": 42,
      "outputs": []
    },
    {
      "cell_type": "code",
      "metadata": {
        "id": "5J3toRuF1gi0"
      },
      "source": [
        "stemmer = SnowballStemmer('russian')"
      ],
      "execution_count": 43,
      "outputs": []
    },
    {
      "cell_type": "code",
      "metadata": {
        "id": "Kx_W2p2s1l1x"
      },
      "source": [
        "for word in [token.text for token in list(razdel_tokenize(string2))]:\r\n",
        "  if len(word) > 4 and stemmer.stem(word) == word:\r\n",
        "    print(word, ' ', stemmer.stem(word))"
      ],
      "execution_count": null,
      "outputs": []
    },
    {
      "cell_type": "markdown",
      "metadata": {
        "id": "I1kh4QZ64wAh"
      },
      "source": [
        "Задание 3. Пункт 2. Примеры:\r\n",
        "\r\n",
        "\r\n",
        "1.   Отпор\r\n",
        "2.   тронув\r\n",
        "\r\n",
        "\r\n",
        "\r\n",
        "Для полного списка запустите код 46\r\n",
        "\r\n",
        "\r\n",
        "\r\n"
      ]
    },
    {
      "cell_type": "code",
      "metadata": {
        "colab": {
          "base_uri": "https://localhost:8080/"
        },
        "id": "1sK4Qgcb5fXf",
        "outputId": "59d777fb-40b6-4f55-d10d-906dee70ab5a"
      },
      "source": [
        "values = {}\r\n",
        "count = 0\r\n",
        "for word in [token.text for token in list(razdel_tokenize(string2))]:\r\n",
        "  if count < 10:\r\n",
        "    if stemmer.stem(word) in values:\r\n",
        "      if str(values[stemmer.stem(word)]) != word:\r\n",
        "        print('word1: ', str(values[stemmer.stem(word)]), ' word2: ', word, ' str: ', stemmer.stem(word))\r\n",
        "        count += 1\r\n",
        "    else:\r\n",
        "      values.setdefault(stemmer.stem(word), word)\r\n"
      ],
      "execution_count": 53,
      "outputs": [
        {
          "output_type": "stream",
          "text": [
            "word1:  борис  word2:  бориса  str:  борис\n",
            "word1:  пастернак  word2:  пастернака  str:  пастернак\n",
            "word1:  которой  word2:  которого  str:  котор\n",
            "word1:  всей  word2:  все  str:  все\n",
            "word1:  доктор  word2:  доктора  str:  доктор\n",
            "word1:  которой  word2:  который  str:  котор\n",
            "word1:  пастернак  word2:  пастернака  str:  пастернак\n",
            "word1:  мире  word2:  миром  str:  мир\n",
            "word1:  доктор  word2:  доктора  str:  доктор\n",
            "word1:  стоило  word2:  стоит  str:  сто\n"
          ],
          "name": "stdout"
        }
      ]
    },
    {
      "cell_type": "markdown",
      "metadata": {
        "id": "YW4spbZi-gV5"
      },
      "source": [
        "Задание 2. Пункт 1. Примеры:\r\n",
        "\r\n",
        "\r\n",
        "\r\n",
        "1.   всей, все привелось к \"все\"\r\n",
        "2.   стоило, стоит привелось к \"сто\"\r\n",
        "\r\n"
      ]
    },
    {
      "cell_type": "code",
      "metadata": {
        "colab": {
          "base_uri": "https://localhost:8080/"
        },
        "id": "V9b6EG_rB77J",
        "outputId": "4e23fb20-6b5a-4d33-df83-fd83ab35aaaa"
      },
      "source": [
        "import nltk\r\n",
        "nltk.download('stopwords')"
      ],
      "execution_count": 58,
      "outputs": [
        {
          "output_type": "stream",
          "text": [
            "[nltk_data] Downloading package stopwords to /root/nltk_data...\n",
            "[nltk_data]   Unzipping corpora/stopwords.zip.\n"
          ],
          "name": "stdout"
        },
        {
          "output_type": "execute_result",
          "data": {
            "text/plain": [
              "True"
            ]
          },
          "metadata": {
            "tags": []
          },
          "execution_count": 58
        }
      ]
    },
    {
      "cell_type": "code",
      "metadata": {
        "id": "tDxzjUEkBB2H"
      },
      "source": [
        "from nltk.corpus import stopwords"
      ],
      "execution_count": 59,
      "outputs": []
    },
    {
      "cell_type": "code",
      "metadata": {
        "id": "AZwa355mBKqg"
      },
      "source": [
        "print(stopwords.words('russian'))"
      ],
      "execution_count": null,
      "outputs": []
    },
    {
      "cell_type": "markdown",
      "metadata": {
        "id": "C56VQRrQEWky"
      },
      "source": [
        "Проверю, каких слов нет в списке"
      ]
    },
    {
      "cell_type": "code",
      "metadata": {
        "colab": {
          "base_uri": "https://localhost:8080/"
        },
        "id": "8lyj1I6LCiou",
        "outputId": "5a20ef6a-7979-49fa-8f06-e59b2a916e98"
      },
      "source": [
        "if 'около' not in stopwords.words('russian'):\r\n",
        "  print('no')\r\n",
        "else:\r\n",
        "  print('yep')"
      ],
      "execution_count": 73,
      "outputs": [
        {
          "output_type": "stream",
          "text": [
            "no\n"
          ],
          "name": "stdout"
        }
      ]
    },
    {
      "cell_type": "markdown",
      "metadata": {
        "id": "qf1qLV6yDD-p"
      },
      "source": [
        "который/которое/которые - не несет в себе смысловой нагрузки\r\n",
        "\r\n",
        "однако - часто используется, как ввожное\r\n",
        "\r\n",
        "наверное - тоже вводное\r\n",
        "\r\n",
        "ок - заимствованные слова, тоже не несут нагрузки\r\n",
        "\r\n",
        "около - предлоги, тоже можно вынести в стоп-слова\r\n",
        "\r\n"
      ]
    },
    {
      "cell_type": "code",
      "metadata": {
        "id": "B57ux5J2FbaN"
      },
      "source": [
        "print(string2)"
      ],
      "execution_count": null,
      "outputs": []
    },
    {
      "cell_type": "code",
      "metadata": {
        "colab": {
          "base_uri": "https://localhost:8080/"
        },
        "id": "4q8oeE_YFOra",
        "outputId": "caa2f73b-85e4-4511-e43d-6330cf1811a9"
      },
      "source": [
        "mystem.lemmatize(string2)[:40]"
      ],
      "execution_count": 87,
      "outputs": [
        {
          "output_type": "execute_result",
          "data": {
            "text/plain": [
              "[' ',\n",
              " 'борис',\n",
              " ' ',\n",
              " 'леонидович',\n",
              " ' ',\n",
              " 'пастернак',\n",
              " '  ',\n",
              " 'доктор',\n",
              " ' ',\n",
              " 'живаго',\n",
              " '  ',\n",
              " 'доктор',\n",
              " ' ',\n",
              " 'живаго',\n",
              " '  ',\n",
              " 'итоговый',\n",
              " ' ',\n",
              " 'произведение',\n",
              " ' ',\n",
              " 'борис',\n",
              " ' ',\n",
              " 'пастернак',\n",
              " ' ',\n",
              " 'книга',\n",
              " ' ',\n",
              " 'весь',\n",
              " ' ',\n",
              " 'его',\n",
              " ' ',\n",
              " 'жизниэтоты',\n",
              " ' ',\n",
              " 'роман',\n",
              " ' ',\n",
              " 'приносить',\n",
              " ' ',\n",
              " 'он',\n",
              " ' ',\n",
              " 'автор',\n",
              " ' ',\n",
              " 'мировой']"
            ]
          },
          "metadata": {
            "tags": []
          },
          "execution_count": 87
        }
      ]
    },
    {
      "cell_type": "code",
      "metadata": {
        "id": "8ObzVmXYGF_n"
      },
      "source": [
        "pip install pymorphy2[fast]"
      ],
      "execution_count": null,
      "outputs": []
    },
    {
      "cell_type": "code",
      "metadata": {
        "id": "qd2Hk-0UFmvE"
      },
      "source": [
        "words_analized = [morph.parse(token) for token in [token.text for token in list(razdel_tokenize(string2))]]"
      ],
      "execution_count": 79,
      "outputs": []
    },
    {
      "cell_type": "code",
      "metadata": {
        "colab": {
          "base_uri": "https://localhost:8080/"
        },
        "id": "BmvpWKIjG1i3",
        "outputId": "32f45c28-75f9-469d-e326-6361a39c9dc7"
      },
      "source": [
        "count = 0\r\n",
        "while count < 20:\r\n",
        "  print(words_analized[count][0].normal_form)\r\n",
        "  print('\\n')\r\n",
        "  count += 1"
      ],
      "execution_count": 86,
      "outputs": [
        {
          "output_type": "stream",
          "text": [
            "борис\n",
            "\n",
            "\n",
            "леонидович\n",
            "\n",
            "\n",
            "пастернак\n",
            "\n",
            "\n",
            "доктор\n",
            "\n",
            "\n",
            "живаго\n",
            "\n",
            "\n",
            "доктор\n",
            "\n",
            "\n",
            "живаго\n",
            "\n",
            "\n",
            "итоговый\n",
            "\n",
            "\n",
            "произведение\n",
            "\n",
            "\n",
            "борис\n",
            "\n",
            "\n",
            "пастернак\n",
            "\n",
            "\n",
            "книга\n",
            "\n",
            "\n",
            "весь\n",
            "\n",
            "\n",
            "он\n",
            "\n",
            "\n",
            "жизниэтота\n",
            "\n",
            "\n",
            "роман\n",
            "\n",
            "\n",
            "принести\n",
            "\n",
            "\n",
            "он\n",
            "\n",
            "\n",
            "автор\n",
            "\n",
            "\n",
            "мировой\n",
            "\n",
            "\n"
          ],
          "name": "stdout"
        }
      ]
    },
    {
      "cell_type": "markdown",
      "metadata": {
        "id": "JwCDrOtXI4yt"
      },
      "source": [
        "В лекции в написали, что mystem лучше, чем pymorphy, но на этих данных pymorphy показал результат лучше, чем mystem\r\n",
        "\r\n",
        "\r\n",
        "\r\n",
        "1.   Pymorphy сохранил прошедшее время глагола \"принес\"\r\n",
        "2.   Pymorphy одинакого интерпретировал \"его\" в тексте\r\n",
        "\r\n"
      ]
    }
  ]
}