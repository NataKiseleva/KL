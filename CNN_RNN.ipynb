{
  "nbformat": 4,
  "nbformat_minor": 0,
  "metadata": {
    "colab": {
      "name": "CNN/RNN.ipynb",
      "provenance": [],
      "authorship_tag": "ABX9TyPbPL9or5HLY0FAYC3hsq+A",
      "include_colab_link": true
    },
    "kernelspec": {
      "name": "python3",
      "display_name": "Python 3"
    },
    "language_info": {
      "name": "python"
    },
    "accelerator": "GPU"
  },
  "cells": [
    {
      "cell_type": "markdown",
      "metadata": {
        "id": "view-in-github",
        "colab_type": "text"
      },
      "source": [
        "<a href=\"https://colab.research.google.com/github/NataKiseleva/KL/blob/main/CNN_RNN.ipynb\" target=\"_parent\"><img src=\"https://colab.research.google.com/assets/colab-badge.svg\" alt=\"Open In Colab\"/></a>"
      ]
    },
    {
      "cell_type": "code",
      "metadata": {
        "id": "az6y1ODf6o87"
      },
      "source": [
        "import tensorflow as tf"
      ],
      "execution_count": 6,
      "outputs": []
    },
    {
      "cell_type": "code",
      "metadata": {
        "id": "Ae3hzR8m6w3I"
      },
      "source": [
        "import pandas as pd\n",
        "import numpy as np\n",
        "from string import punctuation\n",
        "from sklearn.model_selection import train_test_split\n",
        "from collections import Counter\n",
        "import matplotlib.pyplot as plt\n",
        "%matplotlib inline"
      ],
      "execution_count": 7,
      "outputs": []
    },
    {
      "cell_type": "code",
      "metadata": {
        "id": "HOPyY8Mr62AY"
      },
      "source": [
        "from string import punctuation\n",
        "punct = punctuation+'«»—…“”*№–:'"
      ],
      "execution_count": 8,
      "outputs": []
    },
    {
      "cell_type": "code",
      "metadata": {
        "id": "KhsKgNAC9KhI"
      },
      "source": [
        "def preprocess(text):\n",
        "    tokens = text.lower().split()\n",
        "    tokens = [token.strip(punctuation) for token in tokens]\n",
        "    return tokens"
      ],
      "execution_count": 9,
      "outputs": []
    },
    {
      "cell_type": "code",
      "metadata": {
        "id": "zU6iEAf598kn"
      },
      "source": [
        "from tensorflow.keras import backend as K\n",
        "def f1(y_true, y_pred):\n",
        "    def recall(y_true, y_pred):\n",
        "        \"\"\"Recall metric.\n",
        "\n",
        "        Only computes a batch-wise average of recall.\n",
        "\n",
        "        Computes the recall, a metric for multi-label classification of\n",
        "        how many relevant items are selected.\n",
        "        \"\"\"\n",
        "        true_positives = K.sum(K.round(K.clip(y_true * y_pred, 0, 1)))\n",
        "        possible_positives = K.sum(K.round(K.clip(y_true, 0, 1)))\n",
        "        recall = true_positives / (possible_positives + K.epsilon())\n",
        "        return recall\n",
        "\n",
        "    def precision(y_true, y_pred):\n",
        "        \"\"\"Precision metric.\n",
        "\n",
        "        Only computes a batch-wise average of precision.\n",
        "\n",
        "        Computes the precision, a metric for multi-label classification of\n",
        "        how many selected items are relevant.\n",
        "        \"\"\"\n",
        "        true_positives = K.sum(K.round(K.clip(y_true * y_pred, 0, 1)))\n",
        "        predicted_positives = K.sum(K.round(K.clip(y_pred, 0, 1)))\n",
        "        precision = true_positives / (predicted_positives + K.epsilon())\n",
        "        return precision\n",
        "    precision = precision(y_true, y_pred)\n",
        "    recall = recall(y_true, y_pred)\n",
        "    return 2*((precision*recall)/(precision+recall+K.epsilon()))"
      ],
      "execution_count": 10,
      "outputs": []
    },
    {
      "cell_type": "code",
      "metadata": {
        "id": "8hOXy7l--OL8"
      },
      "source": [
        "data = pd.read_csv('lenta_sample.csv')"
      ],
      "execution_count": 11,
      "outputs": []
    },
    {
      "cell_type": "code",
      "metadata": {
        "id": "fM5Xm831-Dq7"
      },
      "source": [
        "vocab = Counter()\n",
        "\n",
        "for text in data.text:\n",
        "    vocab.update(preprocess(text))"
      ],
      "execution_count": 12,
      "outputs": []
    },
    {
      "cell_type": "code",
      "metadata": {
        "id": "KvLJCmUW-Vlq"
      },
      "source": [
        "filtered_vocab = set()\n",
        "\n",
        "for word in vocab:\n",
        "    if vocab[word] > 30:\n",
        "        filtered_vocab.add(word)"
      ],
      "execution_count": 13,
      "outputs": []
    },
    {
      "cell_type": "code",
      "metadata": {
        "id": "GP2j4HIa-nFJ"
      },
      "source": [
        "word2id = {'PAD':0}\n",
        "\n",
        "for word in filtered_vocab:\n",
        "    word2id[word] = len(word2id)"
      ],
      "execution_count": 14,
      "outputs": []
    },
    {
      "cell_type": "code",
      "metadata": {
        "id": "UH6IdSjdGCIi"
      },
      "source": [
        "id2word = {i:w for w, i in word2id.items()}"
      ],
      "execution_count": 15,
      "outputs": []
    },
    {
      "cell_type": "code",
      "metadata": {
        "id": "3DuzmyQ0GLqO"
      },
      "source": [
        "X = []\n",
        "\n",
        "for text in data.text:\n",
        "    tokens = preprocess(text)\n",
        "    ids = [word2id.get(token, 1) for token in tokens]\n",
        "    X.append(ids)"
      ],
      "execution_count": 16,
      "outputs": []
    },
    {
      "cell_type": "code",
      "metadata": {
        "id": "smBV1bKWGXy9"
      },
      "source": [
        "X"
      ],
      "execution_count": null,
      "outputs": []
    },
    {
      "cell_type": "code",
      "metadata": {
        "id": "NhNdmwhIGeNJ"
      },
      "source": [
        "MAX_LEN = max(len(x) for x in X)"
      ],
      "execution_count": 18,
      "outputs": []
    },
    {
      "cell_type": "code",
      "metadata": {
        "colab": {
          "base_uri": "https://localhost:8080/"
        },
        "id": "xTMJ0QGsGjp8",
        "outputId": "cb50710b-46ef-4011-cc2b-c928cac27a8a"
      },
      "source": [
        "MAX_LEN"
      ],
      "execution_count": 19,
      "outputs": [
        {
          "output_type": "execute_result",
          "data": {
            "text/plain": [
              "3578"
            ]
          },
          "metadata": {
            "tags": []
          },
          "execution_count": 19
        }
      ]
    },
    {
      "cell_type": "code",
      "metadata": {
        "id": "tbe9X1rgGm9B"
      },
      "source": [
        "MEAN_LEN = np.median([len(x) for x in X])"
      ],
      "execution_count": 20,
      "outputs": []
    },
    {
      "cell_type": "code",
      "metadata": {
        "colab": {
          "base_uri": "https://localhost:8080/"
        },
        "id": "tPfyKJw3GrUQ",
        "outputId": "1e69d712-b151-4bb5-8edf-18e2afb11618"
      },
      "source": [
        "MEAN_LEN"
      ],
      "execution_count": 21,
      "outputs": [
        {
          "output_type": "execute_result",
          "data": {
            "text/plain": [
              "170.0"
            ]
          },
          "metadata": {
            "tags": []
          },
          "execution_count": 21
        }
      ]
    },
    {
      "cell_type": "code",
      "metadata": {
        "id": "zRG_nsenGwLu"
      },
      "source": [
        "MAX_LEN = int(MEAN_LEN + 50)"
      ],
      "execution_count": 22,
      "outputs": []
    },
    {
      "cell_type": "code",
      "metadata": {
        "id": "j4rsyqcaG3-F"
      },
      "source": [
        "X = tf.keras.preprocessing.sequence.pad_sequences(X, maxlen=MAX_LEN)"
      ],
      "execution_count": 24,
      "outputs": []
    },
    {
      "cell_type": "code",
      "metadata": {
        "colab": {
          "base_uri": "https://localhost:8080/"
        },
        "id": "RG_Ck7z-RGTZ",
        "outputId": "7b5c5fca-955b-40e0-b7bd-7a2c098954b5"
      },
      "source": [
        "X.shape"
      ],
      "execution_count": 25,
      "outputs": [
        {
          "output_type": "execute_result",
          "data": {
            "text/plain": [
              "(147852, 220)"
            ]
          },
          "metadata": {
            "tags": []
          },
          "execution_count": 25
        }
      ]
    },
    {
      "cell_type": "code",
      "metadata": {
        "id": "lj_-yKYJRadf"
      },
      "source": [
        "id2label = {i:label for i, label in enumerate(set(data.topic.values))}\n",
        "label2id = {l:i for i, l in id2label.items()}"
      ],
      "execution_count": 26,
      "outputs": []
    },
    {
      "cell_type": "code",
      "metadata": {
        "id": "HjK_0yP0Rg4y"
      },
      "source": [
        "y = tf.keras.utils.to_categorical([label2id[label] for label in data.topic.values])"
      ],
      "execution_count": 27,
      "outputs": []
    },
    {
      "cell_type": "code",
      "metadata": {
        "colab": {
          "base_uri": "https://localhost:8080/"
        },
        "id": "NEZrC841RoKC",
        "outputId": "ac88d051-786b-4a3e-819a-5a1dcb474e70"
      },
      "source": [
        "len(label2id)"
      ],
      "execution_count": 28,
      "outputs": [
        {
          "output_type": "execute_result",
          "data": {
            "text/plain": [
              "19"
            ]
          },
          "metadata": {
            "tags": []
          },
          "execution_count": 28
        }
      ]
    },
    {
      "cell_type": "code",
      "metadata": {
        "id": "oJt3_fuoR7ds"
      },
      "source": [
        "X_train, X_valid, y_train, y_valid = train_test_split(X, y, test_size=0.05)"
      ],
      "execution_count": 29,
      "outputs": []
    },
    {
      "cell_type": "code",
      "metadata": {
        "id": "FWhfblH4SAfc"
      },
      "source": [
        "import gensim \n",
        "texts = data.text.apply(preprocess).tolist()"
      ],
      "execution_count": 30,
      "outputs": []
    },
    {
      "cell_type": "code",
      "metadata": {
        "id": "CedF0nsjSYvT"
      },
      "source": [
        "w2v = gensim.models.Word2Vec(texts, size=100)\n",
        "w_w2v = np.zeros((len(word2id), 100))"
      ],
      "execution_count": 31,
      "outputs": []
    },
    {
      "cell_type": "code",
      "metadata": {
        "id": "HXw5nXSbT0KB"
      },
      "source": [
        "for word, i in word2id.items():\n",
        "    if word == 'PAD':\n",
        "        continue\n",
        "    \n",
        "    try:\n",
        "        w_w2v[i] = w2v.wv[word]\n",
        "        \n",
        "    except KeyError:\n",
        "        w_w2v[i] = w2v.wv['нетнетнет']"
      ],
      "execution_count": 32,
      "outputs": []
    },
    {
      "cell_type": "code",
      "metadata": {
        "id": "XLDHsLphUL0a"
      },
      "source": [
        "inputs = tf.keras.layers.Input(shape=(MAX_LEN,))"
      ],
      "execution_count": 33,
      "outputs": []
    },
    {
      "cell_type": "code",
      "metadata": {
        "id": "A9g5niMFURQO"
      },
      "source": [
        "embeddings = tf.keras.layers.Embedding(input_dim=len(word2id), output_dim=100, trainable=False,\n",
        "                                      weights=[w_w2v])(inputs)"
      ],
      "execution_count": 48,
      "outputs": []
    },
    {
      "cell_type": "code",
      "metadata": {
        "id": "nQsXlDilUpxE"
      },
      "source": [
        "conv1 = tf.keras.layers.Conv1D(kernel_size=32, filters=32, padding='same',strides=3)(embeddings)"
      ],
      "execution_count": 49,
      "outputs": []
    },
    {
      "cell_type": "code",
      "metadata": {
        "id": "a4UxeGPoWTJJ"
      },
      "source": [
        "drop1 = tf.keras.layers.Dropout(0.2)(conv1)"
      ],
      "execution_count": 50,
      "outputs": []
    },
    {
      "cell_type": "code",
      "metadata": {
        "id": "nHn7eh1KWZDw"
      },
      "source": [
        "pool1 = tf.keras.layers.AveragePooling1D()(drop1) "
      ],
      "execution_count": 52,
      "outputs": []
    },
    {
      "cell_type": "code",
      "metadata": {
        "id": "Z9w2J-FaWeZc"
      },
      "source": [
        "conv2 = tf.keras.layers.Conv1D(kernel_size=20, filters=15, padding='same',strides=2, \n",
        "                                  kernel_regularizer='l2', activation='relu')(pool1)"
      ],
      "execution_count": 53,
      "outputs": []
    },
    {
      "cell_type": "code",
      "metadata": {
        "id": "py8yl6fUWlNq"
      },
      "source": [
        "pool2 = tf.keras.layers.AveragePooling1D()(conv2)  "
      ],
      "execution_count": 54,
      "outputs": []
    },
    {
      "cell_type": "code",
      "metadata": {
        "id": "GrFPCmqXWp4x"
      },
      "source": [
        "rnn = tf.keras.layers.GRU(512, return_sequences=False)(conv2)"
      ],
      "execution_count": 55,
      "outputs": []
    },
    {
      "cell_type": "code",
      "metadata": {
        "id": "_JjSeT8LWu5k"
      },
      "source": [
        "lstm_backward =  tf.keras.layers.LSTM(512, return_sequences=False, go_backwards=True)(conv2)"
      ],
      "execution_count": 56,
      "outputs": []
    },
    {
      "cell_type": "code",
      "metadata": {
        "id": "nm3qfyHpW0cq"
      },
      "source": [
        "concat_2 = tf.keras.layers.concatenate([rnn, lstm_backward], axis=1)"
      ],
      "execution_count": 57,
      "outputs": []
    },
    {
      "cell_type": "code",
      "metadata": {
        "id": "SJ5qMyIJW6kF"
      },
      "source": [
        "drop2 = tf.keras.layers.Dropout(0.1)(concat_2)"
      ],
      "execution_count": 58,
      "outputs": []
    },
    {
      "cell_type": "code",
      "metadata": {
        "id": "OjllJ5pCW_t1"
      },
      "source": [
        "dense = tf.keras.layers.Dense(128, activation='relu')(drop2)"
      ],
      "execution_count": 59,
      "outputs": []
    },
    {
      "cell_type": "code",
      "metadata": {
        "id": "xqPKlIxNXFD-"
      },
      "source": [
        "outputs = tf.keras.layers.Dense(len(label2id), activation='softmax')(dense)"
      ],
      "execution_count": 60,
      "outputs": []
    },
    {
      "cell_type": "code",
      "metadata": {
        "id": "G4vbBldVXJ97"
      },
      "source": [
        "model = tf.keras.Model(inputs=inputs, outputs=outputs)\n",
        "optimizer = tf.keras.optimizers.Adam(learning_rate=0.0001)\n",
        "model.compile(optimizer=optimizer,\n",
        "              loss='categorical_crossentropy',\n",
        "              metrics=[f1])"
      ],
      "execution_count": 65,
      "outputs": []
    },
    {
      "cell_type": "code",
      "metadata": {
        "colab": {
          "base_uri": "https://localhost:8080/"
        },
        "id": "Ggqes-AcXN5G",
        "outputId": "5c0e3f88-dec4-4d9e-d22d-bea0159060b0"
      },
      "source": [
        "model.summary()"
      ],
      "execution_count": 66,
      "outputs": [
        {
          "output_type": "stream",
          "text": [
            "Model: \"model_4\"\n",
            "__________________________________________________________________________________________________\n",
            "Layer (type)                    Output Shape         Param #     Connected to                     \n",
            "==================================================================================================\n",
            "input_1 (InputLayer)            [(None, 220)]        0                                            \n",
            "__________________________________________________________________________________________________\n",
            "embedding_1 (Embedding)         (None, 220, 100)     5529400     input_1[0][0]                    \n",
            "__________________________________________________________________________________________________\n",
            "conv1d_2 (Conv1D)               (None, 74, 32)       102432      embedding_1[0][0]                \n",
            "__________________________________________________________________________________________________\n",
            "dropout_2 (Dropout)             (None, 74, 32)       0           conv1d_2[0][0]                   \n",
            "__________________________________________________________________________________________________\n",
            "average_pooling1d_3 (AveragePoo (None, 37, 32)       0           dropout_2[0][0]                  \n",
            "__________________________________________________________________________________________________\n",
            "conv1d_3 (Conv1D)               (None, 19, 15)       9615        average_pooling1d_3[0][0]        \n",
            "__________________________________________________________________________________________________\n",
            "gru_1 (GRU)                     (None, 512)          812544      conv1d_3[0][0]                   \n",
            "__________________________________________________________________________________________________\n",
            "lstm_1 (LSTM)                   (None, 512)          1081344     conv1d_3[0][0]                   \n",
            "__________________________________________________________________________________________________\n",
            "concatenate_1 (Concatenate)     (None, 1024)         0           gru_1[0][0]                      \n",
            "                                                                 lstm_1[0][0]                     \n",
            "__________________________________________________________________________________________________\n",
            "dropout_3 (Dropout)             (None, 1024)         0           concatenate_1[0][0]              \n",
            "__________________________________________________________________________________________________\n",
            "dense_2 (Dense)                 (None, 128)          131200      dropout_3[0][0]                  \n",
            "__________________________________________________________________________________________________\n",
            "dense_3 (Dense)                 (None, 19)           2451        dense_2[0][0]                    \n",
            "==================================================================================================\n",
            "Total params: 7,668,986\n",
            "Trainable params: 2,139,586\n",
            "Non-trainable params: 5,529,400\n",
            "__________________________________________________________________________________________________\n"
          ],
          "name": "stdout"
        }
      ]
    },
    {
      "cell_type": "code",
      "metadata": {
        "id": "ToQEo5PwZCmf"
      },
      "source": [
        "early_stop = tf.keras.callbacks.EarlyStopping(monitor='val_f1', \n",
        "                                              min_delta=0.01,\n",
        "                                              patience=5, \n",
        "                                              verbose=1, \n",
        "                                              mode='max',\n",
        "                                              )"
      ],
      "execution_count": 67,
      "outputs": []
    },
    {
      "cell_type": "code",
      "metadata": {
        "colab": {
          "base_uri": "https://localhost:8080/"
        },
        "id": "0XjnVe03ZJpG",
        "outputId": "6b122e9c-a729-40a8-8b63-a06091336b6f"
      },
      "source": [
        "model.fit(X_train, y_train, \n",
        "          validation_data=(X_valid, y_valid),\n",
        "          batch_size=1000,\n",
        "          epochs=100,\n",
        "          callbacks=[early_stop])"
      ],
      "execution_count": 69,
      "outputs": [
        {
          "output_type": "stream",
          "text": [
            "Epoch 1/100\n",
            "141/141 [==============================] - 72s 270ms/step - loss: 1.7699 - f1: 0.3850 - val_loss: 1.2239 - val_f1: 0.6481\n",
            "Epoch 2/100\n",
            "141/141 [==============================] - 37s 261ms/step - loss: 1.1519 - f1: 0.6670 - val_loss: 1.0752 - val_f1: 0.6911\n",
            "Epoch 3/100\n",
            "141/141 [==============================] - 37s 262ms/step - loss: 1.0440 - f1: 0.6969 - val_loss: 1.0070 - val_f1: 0.7091\n",
            "Epoch 4/100\n",
            "141/141 [==============================] - 37s 262ms/step - loss: 0.9811 - f1: 0.7130 - val_loss: 0.9594 - val_f1: 0.7152\n",
            "Epoch 5/100\n",
            "141/141 [==============================] - 37s 260ms/step - loss: 0.9330 - f1: 0.7242 - val_loss: 0.9234 - val_f1: 0.7239\n",
            "Epoch 6/100\n",
            "141/141 [==============================] - 37s 260ms/step - loss: 0.8977 - f1: 0.7314 - val_loss: 0.8924 - val_f1: 0.7313\n",
            "Epoch 7/100\n",
            "141/141 [==============================] - 37s 260ms/step - loss: 0.8703 - f1: 0.7380 - val_loss: 0.8746 - val_f1: 0.7325\n",
            "Epoch 8/100\n",
            "141/141 [==============================] - 37s 261ms/step - loss: 0.8485 - f1: 0.7415 - val_loss: 0.8629 - val_f1: 0.7344\n",
            "Epoch 9/100\n",
            "141/141 [==============================] - 37s 261ms/step - loss: 0.8288 - f1: 0.7457 - val_loss: 0.8457 - val_f1: 0.7346\n",
            "Epoch 10/100\n",
            "141/141 [==============================] - 37s 260ms/step - loss: 0.8113 - f1: 0.7491 - val_loss: 0.8322 - val_f1: 0.7418\n",
            "Epoch 11/100\n",
            "141/141 [==============================] - 37s 260ms/step - loss: 0.7944 - f1: 0.7530 - val_loss: 0.8233 - val_f1: 0.7385\n",
            "Epoch 12/100\n",
            "141/141 [==============================] - 37s 263ms/step - loss: 0.7839 - f1: 0.7544 - val_loss: 0.8147 - val_f1: 0.7385\n",
            "Epoch 13/100\n",
            "141/141 [==============================] - 37s 263ms/step - loss: 0.7707 - f1: 0.7567 - val_loss: 0.8040 - val_f1: 0.7455\n",
            "Epoch 14/100\n",
            "141/141 [==============================] - 37s 263ms/step - loss: 0.7588 - f1: 0.7594 - val_loss: 0.7962 - val_f1: 0.7491\n",
            "Epoch 15/100\n",
            "141/141 [==============================] - 37s 262ms/step - loss: 0.7470 - f1: 0.7619 - val_loss: 0.7895 - val_f1: 0.7474\n",
            "Epoch 16/100\n",
            "141/141 [==============================] - 37s 263ms/step - loss: 0.7387 - f1: 0.7631 - val_loss: 0.7813 - val_f1: 0.7456\n",
            "Epoch 17/100\n",
            "141/141 [==============================] - 37s 262ms/step - loss: 0.7263 - f1: 0.7654 - val_loss: 0.7737 - val_f1: 0.7520\n",
            "Epoch 18/100\n",
            "141/141 [==============================] - 37s 263ms/step - loss: 0.7188 - f1: 0.7670 - val_loss: 0.7782 - val_f1: 0.7458\n",
            "Epoch 00018: early stopping\n"
          ],
          "name": "stdout"
        },
        {
          "output_type": "execute_result",
          "data": {
            "text/plain": [
              "<tensorflow.python.keras.callbacks.History at 0x7f7e55f7ee90>"
            ]
          },
          "metadata": {
            "tags": []
          },
          "execution_count": 69
        }
      ]
    },
    {
      "cell_type": "code",
      "metadata": {
        "colab": {
          "base_uri": "https://localhost:8080/",
          "height": 297
        },
        "id": "7UfJNTRYb_uj",
        "outputId": "b6e5b5b5-2540-48f7-867d-4482b77a093a"
      },
      "source": [
        "print(model.history.history.keys())\n",
        "plt.plot(model.history.history['f1'])\n",
        "plt.plot(model.history.history['val_f1'])\n",
        "plt.ylabel('f1')\n",
        "plt.xlabel('epoch')\n",
        "plt.legend(['train', 'val'], loc='upper left')\n",
        "plt.show()"
      ],
      "execution_count": 70,
      "outputs": [
        {
          "output_type": "stream",
          "text": [
            "dict_keys(['loss', 'f1', 'val_loss', 'val_f1'])\n"
          ],
          "name": "stdout"
        },
        {
          "output_type": "display_data",
          "data": {
            "image/png": "[encoded data removed]",
            "text/plain": [
              "<Figure size 432x288 with 1 Axes>"
            ]
          },
          "metadata": {
            "tags": [],
            "needs_background": "light"
          }
        }
      ]
    },
    {
      "cell_type": "code",
      "metadata": {
        "id": "Qosyw1whcVAD"
      },
      "source": [
        "inputs = tf.keras.layers.Input(shape=(MAX_LEN,))"
      ],
      "execution_count": 71,
      "outputs": []
    },
    {
      "cell_type": "code",
      "metadata": {
        "id": "E8XwMnKkcctt"
      },
      "source": [
        "embeddings = tf.keras.layers.Embedding(input_dim=len(word2id), output_dim=200)(inputs)"
      ],
      "execution_count": 85,
      "outputs": []
    },
    {
      "cell_type": "code",
      "metadata": {
        "id": "OJmjIoHkc6Jp"
      },
      "source": [
        "conv1 = tf.keras.layers.Conv1D(kernel_size=10, filters=128, strides=5)(embeddings)"
      ],
      "execution_count": 87,
      "outputs": []
    },
    {
      "cell_type": "code",
      "metadata": {
        "id": "vu9Fmesoc9ZV"
      },
      "source": [
        "drop1 = tf.keras.layers.Dropout(0.15)(conv1)"
      ],
      "execution_count": 88,
      "outputs": []
    },
    {
      "cell_type": "code",
      "metadata": {
        "id": "XroUmTNEdIBB"
      },
      "source": [
        "pool1 = tf.keras.layers.AveragePooling1D()(drop1)"
      ],
      "execution_count": 89,
      "outputs": []
    },
    {
      "cell_type": "code",
      "metadata": {
        "id": "2d6ImXfHdN7C"
      },
      "source": [
        "conv2 = tf.keras.layers.Conv1D(kernel_size=20, filters=32, padding='same',strides=2, kernel_regularizer='l2', activation='relu')(pool1)"
      ],
      "execution_count": 90,
      "outputs": []
    },
    {
      "cell_type": "code",
      "metadata": {
        "id": "OzfO5gKkdS5q"
      },
      "source": [
        "pool2 = tf.keras.layers.AveragePooling1D()(conv2)"
      ],
      "execution_count": 91,
      "outputs": []
    },
    {
      "cell_type": "code",
      "metadata": {
        "id": "k9RPAXZrdbRp"
      },
      "source": [
        "rnn = tf.keras.layers.GRU(512, return_sequences=False)(pool2)"
      ],
      "execution_count": 92,
      "outputs": []
    },
    {
      "cell_type": "code",
      "metadata": {
        "id": "-B_KcgNpd0Km"
      },
      "source": [
        "lstm_backward =  tf.keras.layers.LSTM(512, return_sequences=False, go_backwards=True)(pool2)"
      ],
      "execution_count": 93,
      "outputs": []
    },
    {
      "cell_type": "code",
      "metadata": {
        "id": "lj1Oj5eAeY9C"
      },
      "source": [
        "concat = tf.keras.layers.concatenate([rnn, lstm_backward], axis=1)"
      ],
      "execution_count": 94,
      "outputs": []
    },
    {
      "cell_type": "code",
      "metadata": {
        "id": "uuTPH-Wfedhz"
      },
      "source": [
        "dense = tf.keras.layers.Dense(512, activation='relu')(concat)"
      ],
      "execution_count": 95,
      "outputs": []
    },
    {
      "cell_type": "code",
      "metadata": {
        "id": "dVHPTKaBei_0"
      },
      "source": [
        "drop2 = tf.keras.layers.Dropout(0.07)(dense)"
      ],
      "execution_count": 96,
      "outputs": []
    },
    {
      "cell_type": "code",
      "metadata": {
        "id": "ZmukLAVIeqc3"
      },
      "source": [
        "dense3 = tf.keras.layers.Dense(70, activation='relu')(drop2)"
      ],
      "execution_count": 97,
      "outputs": []
    },
    {
      "cell_type": "code",
      "metadata": {
        "id": "cT9W_qT-ezOw"
      },
      "source": [
        "outputs = tf.keras.layers.Dense(len(label2id), activation='softmax')(dense3)"
      ],
      "execution_count": 98,
      "outputs": []
    },
    {
      "cell_type": "code",
      "metadata": {
        "id": "JvBv8_u6fA2e"
      },
      "source": [
        "model = tf.keras.Model(inputs=inputs, outputs=outputs)\n",
        "optimizer = tf.keras.optimizers.Adam(learning_rate=0.0008)\n",
        "model.compile(optimizer=optimizer,\n",
        "              loss='categorical_crossentropy',\n",
        "              metrics=[f1])"
      ],
      "execution_count": 99,
      "outputs": []
    },
    {
      "cell_type": "code",
      "metadata": {
        "colab": {
          "base_uri": "https://localhost:8080/"
        },
        "id": "XDoBe-5VfFOx",
        "outputId": "7738a927-8345-472f-a359-68f4ac822603"
      },
      "source": [
        "model.summary()"
      ],
      "execution_count": 100,
      "outputs": [
        {
          "output_type": "stream",
          "text": [
            "Model: \"model_5\"\n",
            "__________________________________________________________________________________________________\n",
            "Layer (type)                    Output Shape         Param #     Connected to                     \n",
            "==================================================================================================\n",
            "input_2 (InputLayer)            [(None, 220)]        0                                            \n",
            "__________________________________________________________________________________________________\n",
            "embedding_3 (Embedding)         (None, 220, 200)     11058800    input_2[0][0]                    \n",
            "__________________________________________________________________________________________________\n",
            "conv1d_7 (Conv1D)               (None, 43, 128)      256128      embedding_3[0][0]                \n",
            "__________________________________________________________________________________________________\n",
            "dropout_6 (Dropout)             (None, 43, 128)      0           conv1d_7[0][0]                   \n",
            "__________________________________________________________________________________________________\n",
            "average_pooling1d_7 (AveragePoo (None, 21, 128)      0           dropout_6[0][0]                  \n",
            "__________________________________________________________________________________________________\n",
            "conv1d_8 (Conv1D)               (None, 11, 32)       81952       average_pooling1d_7[0][0]        \n",
            "__________________________________________________________________________________________________\n",
            "average_pooling1d_8 (AveragePoo (None, 5, 32)        0           conv1d_8[0][0]                   \n",
            "__________________________________________________________________________________________________\n",
            "gru_3 (GRU)                     (None, 512)          838656      average_pooling1d_8[0][0]        \n",
            "__________________________________________________________________________________________________\n",
            "lstm_3 (LSTM)                   (None, 512)          1116160     average_pooling1d_8[0][0]        \n",
            "__________________________________________________________________________________________________\n",
            "concatenate_3 (Concatenate)     (None, 1024)         0           gru_3[0][0]                      \n",
            "                                                                 lstm_3[0][0]                     \n",
            "__________________________________________________________________________________________________\n",
            "dense_7 (Dense)                 (None, 512)          524800      concatenate_3[0][0]              \n",
            "__________________________________________________________________________________________________\n",
            "dropout_7 (Dropout)             (None, 512)          0           dense_7[0][0]                    \n",
            "__________________________________________________________________________________________________\n",
            "dense_8 (Dense)                 (None, 70)           35910       dropout_7[0][0]                  \n",
            "__________________________________________________________________________________________________\n",
            "dense_9 (Dense)                 (None, 19)           1349        dense_8[0][0]                    \n",
            "==================================================================================================\n",
            "Total params: 13,913,755\n",
            "Trainable params: 13,913,755\n",
            "Non-trainable params: 0\n",
            "__________________________________________________________________________________________________\n"
          ],
          "name": "stdout"
        }
      ]
    },
    {
      "cell_type": "code",
      "metadata": {
        "id": "jICwMNP3fPdR"
      },
      "source": [
        "early_stop = tf.keras.callbacks.EarlyStopping(monitor='val_f1', min_delta=0.01, patience=5, verbose=1, mode='max')"
      ],
      "execution_count": 101,
      "outputs": []
    },
    {
      "cell_type": "code",
      "metadata": {
        "colab": {
          "base_uri": "https://localhost:8080/"
        },
        "id": "IzY1WtS-fRSF",
        "outputId": "8ac889df-8842-4a6b-bc19-a10f072af955"
      },
      "source": [
        "model.fit(X_train, y_train, \n",
        "          validation_data=(X_valid, y_valid),\n",
        "          batch_size=1500,\n",
        "          epochs=100,\n",
        "          callbacks=[early_stop])"
      ],
      "execution_count": 102,
      "outputs": [
        {
          "output_type": "stream",
          "text": [
            "Epoch 1/100\n",
            "94/94 [==============================] - 55s 544ms/step - loss: 2.1980 - f1: 0.0942 - val_loss: 1.4387 - val_f1: 0.4429\n",
            "Epoch 2/100\n",
            "94/94 [==============================] - 49s 525ms/step - loss: 1.1047 - f1: 0.6461 - val_loss: 1.0713 - val_f1: 0.6660\n",
            "Epoch 3/100\n",
            "94/94 [==============================] - 49s 525ms/step - loss: 0.8206 - f1: 0.7589 - val_loss: 1.0389 - val_f1: 0.6837\n",
            "Epoch 4/100\n",
            "94/94 [==============================] - 49s 526ms/step - loss: 0.5503 - f1: 0.8469 - val_loss: 1.0594 - val_f1: 0.7076\n",
            "Epoch 5/100\n",
            "94/94 [==============================] - 49s 523ms/step - loss: 0.3409 - f1: 0.9112 - val_loss: 1.2800 - val_f1: 0.7023\n",
            "Epoch 6/100\n",
            "94/94 [==============================] - 49s 522ms/step - loss: 0.2264 - f1: 0.9442 - val_loss: 1.4416 - val_f1: 0.7012\n",
            "Epoch 7/100\n",
            "94/94 [==============================] - 49s 520ms/step - loss: 0.1473 - f1: 0.9649 - val_loss: 1.6946 - val_f1: 0.7013\n",
            "Epoch 8/100\n",
            "94/94 [==============================] - 49s 517ms/step - loss: 0.1108 - f1: 0.9745 - val_loss: 1.8371 - val_f1: 0.6953\n",
            "Epoch 9/100\n",
            "94/94 [==============================] - 49s 519ms/step - loss: 0.0909 - f1: 0.9796 - val_loss: 1.8120 - val_f1: 0.6957\n",
            "Epoch 00009: early stopping\n"
          ],
          "name": "stdout"
        },
        {
          "output_type": "execute_result",
          "data": {
            "text/plain": [
              "<tensorflow.python.keras.callbacks.History at 0x7f7dece60e50>"
            ]
          },
          "metadata": {
            "tags": []
          },
          "execution_count": 102
        }
      ]
    },
    {
      "cell_type": "code",
      "metadata": {
        "colab": {
          "base_uri": "https://localhost:8080/",
          "height": 297
        },
        "id": "a-kSdplHhMll",
        "outputId": "c2eaaaf5-523d-47ae-86ef-5b46cd3b2003"
      },
      "source": [
        "print(model.history.history.keys())\n",
        "plt.plot(model.history.history['f1'])\n",
        "plt.plot(model.history.history['val_f1'])\n",
        "plt.ylabel('f1')\n",
        "plt.xlabel('epoch')\n",
        "plt.legend(['train', 'val'], loc='upper left')\n",
        "plt.show()"
      ],
      "execution_count": 103,
      "outputs": [
        {
          "output_type": "stream",
          "text": [
            "dict_keys(['loss', 'f1', 'val_loss', 'val_f1'])\n"
          ],
          "name": "stdout"
        },
        {
          "output_type": "display_data",
          "data": {
            "image/png": "[encoded data removed]",
            "text/plain": [
              "<Figure size 432x288 with 1 Axes>"
            ]
          },
          "metadata": {
            "tags": [],
            "needs_background": "light"
          }
        }
      ]
    }
  ]
}