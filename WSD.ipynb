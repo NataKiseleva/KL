{
  "nbformat": 4,
  "nbformat_minor": 0,
  "metadata": {
    "colab": {
      "name": "WSD.ipynb",
      "provenance": [],
      "authorship_tag": "ABX9TyNT/Oy3UoXq89a6eYvIMMBU",
      "include_colab_link": true
    },
    "kernelspec": {
      "name": "python3",
      "display_name": "Python 3"
    },
    "language_info": {
      "name": "python"
    }
  },
  "cells": [
    {
      "cell_type": "markdown",
      "metadata": {
        "id": "view-in-github",
        "colab_type": "text"
      },
      "source": [
        "<a href=\"https://colab.research.google.com/github/NataKiseleva/KL/blob/main/WSD.ipynb\" target=\"_parent\"><img src=\"https://colab.research.google.com/assets/colab-badge.svg\" alt=\"Open In Colab\"/></a>"
      ]
    },
    {
      "cell_type": "code",
      "metadata": {
        "colab": {
          "base_uri": "https://localhost:8080/"
        },
        "id": "At0Og1sgg6p-",
        "outputId": "d2d78fa1-f36b-4856-bfda-35164cd494f5"
      },
      "source": [
        "import nltk\n",
        "nltk.download('wordnet')\n",
        "from nltk.corpus import wordnet as wn"
      ],
      "execution_count": 7,
      "outputs": [
        {
          "output_type": "stream",
          "text": [
            "[nltk_data] Downloading package wordnet to /root/nltk_data...\n",
            "[nltk_data]   Package wordnet is already up-to-date!\n"
          ],
          "name": "stdout"
        }
      ]
    },
    {
      "cell_type": "code",
      "metadata": {
        "id": "iRLnHeKEkvt4"
      },
      "source": [
        "def lesk( word, sentence ):\n",
        "    dict1 = set(sentence.split())\n",
        "    examples = []\n",
        "    maxoverlap = []\n",
        "    for synset in wn.synsets(word):\n",
        "      examples.append(' '.join(synset.examples())) \n",
        "    \n",
        "\n",
        "    bestsense = max(range(len(examples)), key=lambda c: len(set(examples[c].split()) & dict1)/len(dict1))\n",
        "    return bestsense"
      ],
      "execution_count": 18,
      "outputs": []
    },
    {
      "cell_type": "code",
      "metadata": {
        "colab": {
          "base_uri": "https://localhost:8080/"
        },
        "id": "6c6tJJy8m4-H",
        "outputId": "4e00be23-492f-4069-a962-2284d1ec5c08"
      },
      "source": [
        "!wget https://github.com/mannefedov/compling_nlp_hse_course/blob/master/data/corpus_wsd_50k.txt.zip"
      ],
      "execution_count": 19,
      "outputs": [
        {
          "output_type": "stream",
          "text": [
            "--2021-06-23 20:40:41--  https://github.com/mannefedov/compling_nlp_hse_course/blob/master/data/corpus_wsd_50k.txt.zip\n",
            "Resolving github.com (github.com)... 140.82.114.3\n",
            "Connecting to github.com (github.com)|140.82.114.3|:443... connected.\n",
            "HTTP request sent, awaiting response... 200 OK\n",
            "Length: unspecified [text/html]\n",
            "Saving to: ‘corpus_wsd_50k.txt.zip’\n",
            "\n",
            "corpus_wsd_50k.txt.     [ <=>                ] 111.89K  --.-KB/s    in 0.008s  \n",
            "\n",
            "2021-06-23 20:40:42 (13.1 MB/s) - ‘corpus_wsd_50k.txt.zip’ saved [114578]\n",
            "\n"
          ],
          "name": "stdout"
        }
      ]
    },
    {
      "cell_type": "code",
      "metadata": {
        "colab": {
          "base_uri": "https://localhost:8080/"
        },
        "id": "C9nWrBW5n4sS",
        "outputId": "630d9e52-7717-4d32-dffc-06a9624f6a3b"
      },
      "source": [
        "!unzip 'corpus_wsd_50k.txt.zip'"
      ],
      "execution_count": 21,
      "outputs": [
        {
          "output_type": "stream",
          "text": [
            "Archive:  corpus_wsd_50k.txt.zip\n",
            "  End-of-central-directory signature not found.  Either this file is not\n",
            "  a zipfile, or it constitutes one disk of a multi-part archive.  In the\n",
            "  latter case the central directory and zipfile comment will be found on\n",
            "  the last disk(s) of this archive.\n",
            "unzip:  cannot find zipfile directory in one of corpus_wsd_50k.txt.zip or\n",
            "        corpus_wsd_50k.txt.zip.zip, and cannot find corpus_wsd_50k.txt.zip.ZIP, period.\n"
          ],
          "name": "stdout"
        }
      ]
    },
    {
      "cell_type": "code",
      "metadata": {
        "id": "VmglD03koBBG"
      },
      "source": [
        "text = open('corpus_wsd_50k.txt', encoding='utf-8').read()[:4000]"
      ],
      "execution_count": 26,
      "outputs": []
    },
    {
      "cell_type": "code",
      "metadata": {
        "id": "tgq9THJ6o7LY"
      },
      "source": [
        "corpus_wsd = []\n",
        "corpus = open('corpus_wsd_50k.txt').read().split('\\n\\n')\n",
        "for sent in corpus:\n",
        "    corpus_wsd.append([s.split('\\t') for s in sent.split('\\n')])"
      ],
      "execution_count": 1,
      "outputs": []
    },
    {
      "cell_type": "code",
      "metadata": {
        "colab": {
          "base_uri": "https://localhost:8080/"
        },
        "id": "V2nmX7W0qlnI",
        "outputId": "2df964d1-4660-42e9-89b6-8fe9fd1d6227"
      },
      "source": [
        "corpus_wsd[0]"
      ],
      "execution_count": 2,
      "outputs": [
        {
          "output_type": "execute_result",
          "data": {
            "text/plain": [
              "[['', 'how', 'How'],\n",
              " ['long%3:00:02::', 'long', 'long'],\n",
              " ['', 'have', 'has'],\n",
              " ['', 'it', 'it'],\n",
              " ['be%2:42:03::', 'be', 'been'],\n",
              " ['', 'since', 'since'],\n",
              " ['', 'you', 'you'],\n",
              " ['review%2:31:00::', 'review', 'reviewed'],\n",
              " ['', 'the', 'the'],\n",
              " ['objective%1:09:00::', 'objective', 'objectives'],\n",
              " ['', 'of', 'of'],\n",
              " ['', 'you', 'your'],\n",
              " ['benefit%1:21:00::', 'benefit', 'benefit'],\n",
              " ['', 'and', 'and'],\n",
              " ['service%1:04:07::', 'service', 'service'],\n",
              " ['program%1:09:01::', 'program', 'program'],\n",
              " ['', '?', '?']]"
            ]
          },
          "metadata": {
            "tags": []
          },
          "execution_count": 2
        }
      ]
    },
    {
      "cell_type": "code",
      "metadata": {
        "id": "Ps1JOrb8q_Pi"
      },
      "source": [
        "st = []\n",
        "for i in corpus_wsd:\n",
        "  sentence = ''\n",
        "  st2 = []\n",
        "  for k in i:\n",
        "    sentence += k[-1] + ' '\n",
        "    if k[0] != '':\n",
        "      st2.append(k)\n",
        "  for i, l in enumerate(st2):\n",
        "    st2[i].append(sentence)\n",
        "  st.append(st2)"
      ],
      "execution_count": 3,
      "outputs": []
    },
    {
      "cell_type": "code",
      "metadata": {
        "colab": {
          "base_uri": "https://localhost:8080/"
        },
        "id": "7QBtpOZkr1Pi",
        "outputId": "af4dd820-fc8e-431d-d6cb-112c2ba95dea"
      },
      "source": [
        "st[0]"
      ],
      "execution_count": 4,
      "outputs": [
        {
          "output_type": "execute_result",
          "data": {
            "text/plain": [
              "[['long%3:00:02::',\n",
              "  'long',\n",
              "  'long',\n",
              "  'How long has it been since you reviewed the objectives of your benefit and service program ? '],\n",
              " ['be%2:42:03::',\n",
              "  'be',\n",
              "  'been',\n",
              "  'How long has it been since you reviewed the objectives of your benefit and service program ? '],\n",
              " ['review%2:31:00::',\n",
              "  'review',\n",
              "  'reviewed',\n",
              "  'How long has it been since you reviewed the objectives of your benefit and service program ? '],\n",
              " ['objective%1:09:00::',\n",
              "  'objective',\n",
              "  'objectives',\n",
              "  'How long has it been since you reviewed the objectives of your benefit and service program ? '],\n",
              " ['benefit%1:21:00::',\n",
              "  'benefit',\n",
              "  'benefit',\n",
              "  'How long has it been since you reviewed the objectives of your benefit and service program ? '],\n",
              " ['service%1:04:07::',\n",
              "  'service',\n",
              "  'service',\n",
              "  'How long has it been since you reviewed the objectives of your benefit and service program ? '],\n",
              " ['program%1:09:01::',\n",
              "  'program',\n",
              "  'program',\n",
              "  'How long has it been since you reviewed the objectives of your benefit and service program ? ']]"
            ]
          },
          "metadata": {
            "tags": []
          },
          "execution_count": 4
        }
      ]
    },
    {
      "cell_type": "code",
      "metadata": {
        "id": "wJooAlO2uf1w"
      },
      "source": [
        "final =[]\n",
        "for i in st:\n",
        "  for k in i:\n",
        "    final.append(lesk(k[1], k[3]))"
      ],
      "execution_count": 19,
      "outputs": []
    },
    {
      "cell_type": "code",
      "metadata": {
        "id": "edOJG868yK60"
      },
      "source": [
        "st3 = []\n",
        "st4 = []\n",
        "for n in st:\n",
        "  for k in n:\n",
        "    st3.append(k[0])\n",
        "    st4.append(k[1])"
      ],
      "execution_count": 25,
      "outputs": []
    },
    {
      "cell_type": "code",
      "metadata": {
        "id": "Ni0Rtu9PxiIx"
      },
      "source": [
        "def score(pred, true, word):\n",
        "  weight = len(pred)\n",
        "  c = 0\n",
        "  for x in range(weight):\n",
        "    if wn.lemma_from_key(true[x]).synset() == wn.synsets(word[x])[pred[x]]:\n",
        "      c +=1\n",
        "  return print(c/weight)"
      ],
      "execution_count": 20,
      "outputs": []
    },
    {
      "cell_type": "code",
      "metadata": {
        "colab": {
          "base_uri": "https://localhost:8080/"
        },
        "id": "0fel3eXnyomJ",
        "outputId": "50255739-dfa2-4ece-d12e-f531ba57d5b6"
      },
      "source": [
        "len(final), len(st3), len(st4)"
      ],
      "execution_count": 26,
      "outputs": [
        {
          "output_type": "execute_result",
          "data": {
            "text/plain": [
              "(239913, 239913, 239913)"
            ]
          },
          "metadata": {
            "tags": []
          },
          "execution_count": 26
        }
      ]
    },
    {
      "cell_type": "code",
      "metadata": {
        "colab": {
          "base_uri": "https://localhost:8080/"
        },
        "id": "pudOb4WFxrKn",
        "outputId": "8cbd6ff1-1287-4863-cf7f-29015fb8e066"
      },
      "source": [
        "score(final, st3, st4)"
      ],
      "execution_count": 27,
      "outputs": [
        {
          "output_type": "stream",
          "text": [
            "0.39210880610888116\n"
          ],
          "name": "stdout"
        }
      ]
    }
  ]
}