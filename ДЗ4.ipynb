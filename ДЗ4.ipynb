{
  "nbformat": 4,
  "nbformat_minor": 0,
  "metadata": {
    "colab": {
      "name": "ДЗ4.ipynb",
      "provenance": []
    },
    "kernelspec": {
      "name": "python3",
      "display_name": "Python 3"
    },
    "language_info": {
      "name": "python"
    }
  },
  "cells": [
    {
      "cell_type": "code",
      "metadata": {
        "id": "YeDxhwdB2lfi"
      },
      "source": [
        "\n",
        "import pandas as pd\n",
        "from sklearn.feature_extraction.text import CountVectorizer, TfidfVectorizer\n",
        "from sklearn.linear_model import LogisticRegression\n",
        "from sklearn.tree import DecisionTreeClassifier\n",
        "from sklearn.neighbors import KNeighborsClassifier\n",
        "from sklearn.naive_bayes import MultinomialNB\n",
        "from sklearn.model_selection import train_test_split\n",
        "from sklearn.metrics import classification_report, accuracy_score\n",
        "from sklearn.metrics.pairwise import cosine_distances, cosine_similarity\n",
        "\n",
        "from IPython.display import Image\n",
        "from IPython.core.display import HTML"
      ],
      "execution_count": 8,
      "outputs": []
    },
    {
      "cell_type": "code",
      "metadata": {
        "colab": {
          "resources": {
            "http://localhost:8080/nbextensions/google.colab/files.js": {
              "data": "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",
              "ok": true,
              "headers": [
                [
                  "content-type",
                  "application/javascript"
                ]
              ],
              "status": 200,
              "status_text": ""
            }
          },
          "base_uri": "https://localhost:8080/",
          "height": 73
        },
        "id": "OdYwWL1s2-gp",
        "outputId": "fbabbf58-de3a-4b30-d8e5-5f16717274d3"
      },
      "source": [
        "from google.colab import files \n",
        "uploaded = files.upload()"
      ],
      "execution_count": 9,
      "outputs": [
        {
          "output_type": "display_data",
          "data": {
            "text/html": [
              "\n",
              "     <input type=\"file\" id=\"files-cb595bd9-2e1e-4b8d-bc0f-bf02be3bf20a\" name=\"files[]\" multiple disabled\n",
              "        style=\"border:none\" />\n",
              "     <output id=\"result-cb595bd9-2e1e-4b8d-bc0f-bf02be3bf20a\">\n",
              "      Upload widget is only available when the cell has been executed in the\n",
              "      current browser session. Please rerun this cell to enable.\n",
              "      </output>\n",
              "      <script src=\"/nbextensions/google.colab/files.js\"></script> "
            ],
            "text/plain": [
              "<IPython.core.display.HTML object>"
            ]
          },
          "metadata": {
            "tags": []
          }
        },
        {
          "output_type": "stream",
          "text": [
            "Saving labeled.csv to labeled.csv\n"
          ],
          "name": "stdout"
        }
      ]
    },
    {
      "cell_type": "code",
      "metadata": {
        "id": "qzokEzoE3rmm"
      },
      "source": [
        "data = pd.read_csv('labeled.csv')"
      ],
      "execution_count": 10,
      "outputs": []
    },
    {
      "cell_type": "code",
      "metadata": {
        "colab": {
          "base_uri": "https://localhost:8080/",
          "height": 202
        },
        "id": "e7J2Sf8P6OoS",
        "outputId": "a7104d09-d70a-485e-fb28-9765bad450ac"
      },
      "source": [
        "data.head()"
      ],
      "execution_count": 11,
      "outputs": [
        {
          "output_type": "execute_result",
          "data": {
            "text/html": [
              "<div>\n",
              "<style scoped>\n",
              "    .dataframe tbody tr th:only-of-type {\n",
              "        vertical-align: middle;\n",
              "    }\n",
              "\n",
              "    .dataframe tbody tr th {\n",
              "        vertical-align: top;\n",
              "    }\n",
              "\n",
              "    .dataframe thead th {\n",
              "        text-align: right;\n",
              "    }\n",
              "</style>\n",
              "<table border=\"1\" class=\"dataframe\">\n",
              "  <thead>\n",
              "    <tr style=\"text-align: right;\">\n",
              "      <th></th>\n",
              "      <th>comment</th>\n",
              "      <th>toxic</th>\n",
              "    </tr>\n",
              "  </thead>\n",
              "  <tbody>\n",
              "    <tr>\n",
              "      <th>0</th>\n",
              "      <td>Верблюдов-то за что? Дебилы, бл...\\n</td>\n",
              "      <td>1.0</td>\n",
              "    </tr>\n",
              "    <tr>\n",
              "      <th>1</th>\n",
              "      <td>Хохлы, это отдушина затюканого россиянина, мол...</td>\n",
              "      <td>1.0</td>\n",
              "    </tr>\n",
              "    <tr>\n",
              "      <th>2</th>\n",
              "      <td>Собаке - собачья смерть\\n</td>\n",
              "      <td>1.0</td>\n",
              "    </tr>\n",
              "    <tr>\n",
              "      <th>3</th>\n",
              "      <td>Страницу обнови, дебил. Это тоже не оскорблени...</td>\n",
              "      <td>1.0</td>\n",
              "    </tr>\n",
              "    <tr>\n",
              "      <th>4</th>\n",
              "      <td>тебя не убедил 6-страничный пдф в том, что Скр...</td>\n",
              "      <td>1.0</td>\n",
              "    </tr>\n",
              "  </tbody>\n",
              "</table>\n",
              "</div>"
            ],
            "text/plain": [
              "                                             comment  toxic\n",
              "0               Верблюдов-то за что? Дебилы, бл...\\n    1.0\n",
              "1  Хохлы, это отдушина затюканого россиянина, мол...    1.0\n",
              "2                          Собаке - собачья смерть\\n    1.0\n",
              "3  Страницу обнови, дебил. Это тоже не оскорблени...    1.0\n",
              "4  тебя не убедил 6-страничный пдф в том, что Скр...    1.0"
            ]
          },
          "metadata": {
            "tags": []
          },
          "execution_count": 11
        }
      ]
    },
    {
      "cell_type": "code",
      "metadata": {
        "id": "1Q41iUJe6VXD"
      },
      "source": [
        "vectorizer = CountVectorizer()\n",
        "# в векторайзер нужно засовывать тексты строками (токенизация там встроена)\n",
        "X = vectorizer.fit_transform(data.comment)"
      ],
      "execution_count": 12,
      "outputs": []
    },
    {
      "cell_type": "code",
      "metadata": {
        "colab": {
          "base_uri": "https://localhost:8080/"
        },
        "id": "iSE4J3ug7mBx",
        "outputId": "507c4e40-a22c-4204-ded1-f360d312ab8c"
      },
      "source": [
        "X.shape"
      ],
      "execution_count": 15,
      "outputs": [
        {
          "output_type": "execute_result",
          "data": {
            "text/plain": [
              "(14412, 68423)"
            ]
          },
          "metadata": {
            "tags": []
          },
          "execution_count": 15
        }
      ]
    },
    {
      "cell_type": "code",
      "metadata": {
        "colab": {
          "base_uri": "https://localhost:8080/",
          "height": 53
        },
        "id": "hf5z6Bs275ps",
        "outputId": "30d4a887-ff39-48d9-c923-bd7cb839e349"
      },
      "source": [
        "data.comment[3]"
      ],
      "execution_count": 21,
      "outputs": [
        {
          "output_type": "execute_result",
          "data": {
            "application/vnd.google.colaboratory.intrinsic+json": {
              "type": "string"
            },
            "text/plain": [
              "'Страницу обнови, дебил. Это тоже не оскорбление, а доказанный факт - не-дебил про себя во множественном числе писать не будет. Или мы в тебя верим - это ты и твои воображаемые друзья?\\n'"
            ]
          },
          "metadata": {
            "tags": []
          },
          "execution_count": 21
        }
      ]
    },
    {
      "cell_type": "markdown",
      "metadata": {
        "id": "boqZ-rQqKV-D"
      },
      "source": [
        "Задача 2, пункт а"
      ]
    },
    {
      "cell_type": "code",
      "metadata": {
        "colab": {
          "base_uri": "https://localhost:8080/"
        },
        "id": "JNBLnaAT-a1G",
        "outputId": "b9384de8-38f2-45c0-fd29-8debbb563b7b"
      },
      "source": [
        "cosine_distances(X[3], X[12666])"
      ],
      "execution_count": 22,
      "outputs": [
        {
          "output_type": "execute_result",
          "data": {
            "text/plain": [
              "array([[0.44817459]])"
            ]
          },
          "metadata": {
            "tags": []
          },
          "execution_count": 22
        }
      ]
    },
    {
      "cell_type": "markdown",
      "metadata": {
        "id": "hh9rhwbbKa9q"
      },
      "source": [
        "Задача 2, пункт б"
      ]
    },
    {
      "cell_type": "code",
      "metadata": {
        "colab": {
          "base_uri": "https://localhost:8080/"
        },
        "id": "gQLb-OstEJrH",
        "outputId": "d30a2e75-2ad9-4731-c138-2c247d256a3e"
      },
      "source": [
        "cosine_distances(X[43], X).argsort()[0,:4]"
      ],
      "execution_count": 46,
      "outputs": [
        {
          "output_type": "execute_result",
          "data": {
            "text/plain": [
              "array([   43, 14325, 13132,  7991])"
            ]
          },
          "metadata": {
            "tags": []
          },
          "execution_count": 46
        }
      ]
    },
    {
      "cell_type": "code",
      "metadata": {
        "colab": {
          "base_uri": "https://localhost:8080/"
        },
        "id": "bebfydkZF-Z_",
        "outputId": "1cd5d29c-4e0a-471d-c7af-e2e5cfc4dceb"
      },
      "source": [
        "print(data.comment[14325], ':', cosine_distances(X[43], X[14325]))"
      ],
      "execution_count": 47,
      "outputs": [
        {
          "output_type": "stream",
          "text": [
            "Ну оль, ну вот че тебе надо? Иди в по сри, а этот достопочтенный тред оставь в покое\n",
            " : [[0.73529412]]\n"
          ],
          "name": "stdout"
        }
      ]
    },
    {
      "cell_type": "code",
      "metadata": {
        "colab": {
          "base_uri": "https://localhost:8080/"
        },
        "id": "XuC7zJCWGUCo",
        "outputId": "8d261974-a030-4ed8-d287-715bc7639ddb"
      },
      "source": [
        "print(data.comment[13132], ':', cosine_distances(X[43], X[13132]))"
      ],
      "execution_count": 48,
      "outputs": [
        {
          "output_type": "stream",
          "text": [
            "Да, тяжелая штука. Важно помнить - ты в этой жизни ТАКАЯ. Ну вот такая.. Ну вот так вышло. Такой тебя папа с мамой сделали, как вышло, ничего не поделаеш. Вот и живи себе, старайся посильно. Если чего не получается - ну, в этот раз не получилось у нас есть еще одна спичка, еще один шанс . У тебя спичек коробок. А другие - такие же. С тарелок едят, в унитаз срут. Остальное - понты. Надо, надо пробовать! Хотябы для того, чтоб сказать - да, я пробовала, у меня не получилось. Но оно получится. Ты сильная, признайся себе в этом.\n",
            " : [[0.77037864]]\n"
          ],
          "name": "stdout"
        }
      ]
    },
    {
      "cell_type": "code",
      "metadata": {
        "colab": {
          "base_uri": "https://localhost:8080/"
        },
        "id": "5lBXycciGciI",
        "outputId": "7b17b61d-d08c-4f87-89f1-f1ac7e1e05d8"
      },
      "source": [
        "print(data.comment[7991], ':', cosine_distances(X[43], X[7991]))"
      ],
      "execution_count": 49,
      "outputs": [
        {
          "output_type": "stream",
          "text": [
            "Кастрировать не мучать . Ну ну.\n",
            " : [[0.77082538]]\n"
          ],
          "name": "stdout"
        }
      ]
    },
    {
      "cell_type": "markdown",
      "metadata": {
        "id": "zKpnmtCVKfkQ"
      },
      "source": [
        "Задача 3"
      ]
    },
    {
      "cell_type": "code",
      "metadata": {
        "colab": {
          "resources": {
            "http://localhost:8080/nbextensions/google.colab/files.js": {
              "data": "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",
              "ok": true,
              "headers": [
                [
                  "content-type",
                  "application/javascript"
                ]
              ],
              "status": 200,
              "status_text": ""
            }
          },
          "base_uri": "https://localhost:8080/",
          "height": 73
        },
        "id": "cL_q2z_BGqIr",
        "outputId": "023d2b18-2a5e-4258-8eec-cfb27179df95"
      },
      "source": [
        "from google.colab import files \n",
        "uploaded = files.upload()"
      ],
      "execution_count": 50,
      "outputs": [
        {
          "output_type": "display_data",
          "data": {
            "text/html": [
              "\n",
              "     <input type=\"file\" id=\"files-1aab0f4d-f47c-42ce-9016-0a93a7a39091\" name=\"files[]\" multiple disabled\n",
              "        style=\"border:none\" />\n",
              "     <output id=\"result-1aab0f4d-f47c-42ce-9016-0a93a7a39091\">\n",
              "      Upload widget is only available when the cell has been executed in the\n",
              "      current browser session. Please rerun this cell to enable.\n",
              "      </output>\n",
              "      <script src=\"/nbextensions/google.colab/files.js\"></script> "
            ],
            "text/plain": [
              "<IPython.core.display.HTML object>"
            ]
          },
          "metadata": {
            "tags": []
          }
        },
        {
          "output_type": "stream",
          "text": [
            "Saving 2ch_corpus.txt to 2ch_corpus.txt\n"
          ],
          "name": "stdout"
        }
      ]
    },
    {
      "cell_type": "code",
      "metadata": {
        "id": "FqZHGD6dKnDh"
      },
      "source": [
        "text = open('2ch_corpus.txt', encoding='UTF8')"
      ],
      "execution_count": 53,
      "outputs": []
    },
    {
      "cell_type": "code",
      "metadata": {
        "id": "SKYmnaw2Kvww"
      },
      "source": [
        "text2 = text.readlines()"
      ],
      "execution_count": 52,
      "outputs": []
    },
    {
      "cell_type": "markdown",
      "metadata": {
        "id": "pl5t1YZENcN9"
      },
      "source": [
        "Попробую LogisticRegression с CountVectorizer"
      ]
    },
    {
      "cell_type": "code",
      "metadata": {
        "id": "M25YwtdOL8IC"
      },
      "source": [
        "train, test = train_test_split(data, test_size=0.1, shuffle=True)"
      ],
      "execution_count": 56,
      "outputs": []
    },
    {
      "cell_type": "code",
      "metadata": {
        "id": "d1oIbPhLOVUj"
      },
      "source": [
        "train.reset_index(inplace=True)\n",
        "test.reset_index(inplace=True)"
      ],
      "execution_count": 57,
      "outputs": []
    },
    {
      "cell_type": "code",
      "metadata": {
        "id": "6xrvpz5jOfPm"
      },
      "source": [
        "vectorizer = CountVectorizer()\n",
        "X1 = vectorizer.fit_transform(train.comment)"
      ],
      "execution_count": 58,
      "outputs": []
    },
    {
      "cell_type": "code",
      "metadata": {
        "id": "BJ7drVRROtId"
      },
      "source": [
        "X_test = vectorizer.transform(test.comment)"
      ],
      "execution_count": 59,
      "outputs": []
    },
    {
      "cell_type": "code",
      "metadata": {
        "id": "Uk_6aKrUO7xJ"
      },
      "source": [
        "D = vectorizer.transform(text2)"
      ],
      "execution_count": 64,
      "outputs": []
    },
    {
      "cell_type": "code",
      "metadata": {
        "id": "dBsEHPdJQ3Cc"
      },
      "source": [
        "y = train.toxic.values\n",
        "y_test = test.toxic.values"
      ],
      "execution_count": 65,
      "outputs": []
    },
    {
      "cell_type": "code",
      "metadata": {
        "id": "fWNtPALCRFSh"
      },
      "source": [
        "clf = LogisticRegression(C=0.01, class_weight='balanced')"
      ],
      "execution_count": 66,
      "outputs": []
    },
    {
      "cell_type": "code",
      "metadata": {
        "colab": {
          "base_uri": "https://localhost:8080/"
        },
        "id": "lUb20unxRtY5",
        "outputId": "2efa5107-becf-499c-93aa-5f9cd12176d9"
      },
      "source": [
        "clf.fit(X1, y)"
      ],
      "execution_count": 67,
      "outputs": [
        {
          "output_type": "execute_result",
          "data": {
            "text/plain": [
              "LogisticRegression(C=0.01, class_weight='balanced', dual=False,\n",
              "                   fit_intercept=True, intercept_scaling=1, l1_ratio=None,\n",
              "                   max_iter=100, multi_class='auto', n_jobs=None, penalty='l2',\n",
              "                   random_state=None, solver='lbfgs', tol=0.0001, verbose=0,\n",
              "                   warm_start=False)"
            ]
          },
          "metadata": {
            "tags": []
          },
          "execution_count": 67
        }
      ]
    },
    {
      "cell_type": "code",
      "metadata": {
        "colab": {
          "base_uri": "https://localhost:8080/"
        },
        "id": "CqmhuIAvR7Af",
        "outputId": "c6e22567-45f5-4a3f-a7fd-6b12327aa959"
      },
      "source": [
        "clf.classes_"
      ],
      "execution_count": 68,
      "outputs": [
        {
          "output_type": "execute_result",
          "data": {
            "text/plain": [
              "array([0., 1.])"
            ]
          },
          "metadata": {
            "tags": []
          },
          "execution_count": 68
        }
      ]
    },
    {
      "cell_type": "code",
      "metadata": {
        "id": "8veJATbOSASI"
      },
      "source": [
        "preds = clf.predict(X_test)"
      ],
      "execution_count": 71,
      "outputs": []
    },
    {
      "cell_type": "code",
      "metadata": {
        "colab": {
          "base_uri": "https://localhost:8080/"
        },
        "id": "SC2ywVr3SJNw",
        "outputId": "b5238c4e-7dda-4baf-ca1e-ca8335303db9"
      },
      "source": [
        "print(classification_report(y_test, preds))"
      ],
      "execution_count": 72,
      "outputs": [
        {
          "output_type": "stream",
          "text": [
            "              precision    recall  f1-score   support\n",
            "\n",
            "         0.0       0.89      0.75      0.81       970\n",
            "         1.0       0.61      0.82      0.70       472\n",
            "\n",
            "    accuracy                           0.77      1442\n",
            "   macro avg       0.75      0.78      0.76      1442\n",
            "weighted avg       0.80      0.77      0.78      1442\n",
            "\n"
          ],
          "name": "stdout"
        }
      ]
    },
    {
      "cell_type": "code",
      "metadata": {
        "id": "XDw5p6LTSi9p"
      },
      "source": [
        "preds = clf.predict(D)"
      ],
      "execution_count": 73,
      "outputs": []
    },
    {
      "cell_type": "code",
      "metadata": {
        "id": "I_v_YzxkS6o9"
      },
      "source": [
        "probas = clf.predict_proba(D)"
      ],
      "execution_count": 75,
      "outputs": []
    },
    {
      "cell_type": "code",
      "metadata": {
        "colab": {
          "base_uri": "https://localhost:8080/"
        },
        "id": "nikn-yDBTOAT",
        "outputId": "1504ac50-f0e7-4586-8c47-dd7ca587d8c0"
      },
      "source": [
        "probas[0]"
      ],
      "execution_count": 77,
      "outputs": [
        {
          "output_type": "execute_result",
          "data": {
            "text/plain": [
              "array([0.97042768, 0.02957232])"
            ]
          },
          "metadata": {
            "tags": []
          },
          "execution_count": 77
        }
      ]
    },
    {
      "cell_type": "code",
      "metadata": {
        "colab": {
          "base_uri": "https://localhost:8080/"
        },
        "id": "opNFCt2lTTVq",
        "outputId": "1fdfa2fc-747d-4ae7-9761-5a27743eb644"
      },
      "source": [
        "probas[0][1]"
      ],
      "execution_count": 86,
      "outputs": [
        {
          "output_type": "execute_result",
          "data": {
            "text/plain": [
              "0.02957232448865653"
            ]
          },
          "metadata": {
            "tags": []
          },
          "execution_count": 86
        }
      ]
    },
    {
      "cell_type": "code",
      "metadata": {
        "id": "jQTLmgWgUiux"
      },
      "source": [
        "lis"
      ],
      "execution_count": null,
      "outputs": []
    },
    {
      "cell_type": "code",
      "metadata": {
        "id": "ry00ph8etP3Y"
      },
      "source": [
        "lis.sort(key = lambda x: x[1])"
      ],
      "execution_count": 87,
      "outputs": []
    },
    {
      "cell_type": "code",
      "metadata": {
        "colab": {
          "base_uri": "https://localhost:8080/"
        },
        "id": "L6hnoZVGtjxN",
        "outputId": "3c2e8ba6-72b2-42ab-8c4a-13ddd682456f"
      },
      "source": [
        "f = 0\n",
        "for c in lis:\n",
        "  if f < 9:\n",
        "    print(c)\n",
        "    print(l[c[0]])\n",
        "    f += 1"
      ],
      "execution_count": 91,
      "outputs": [
        {
          "output_type": "stream",
          "text": [
            "[67551, '[0.', '1.]']\n",
            " >Наверняка тебе не раз приходила в голову такая мысль: «И почему я одинок? Наверное, такая моя судьба» Или: «Такие тян какие есть в Совенке не могут существовать ИРЛ. Они слишком идеальны». Твоя жизнь сложилась так, что ты теперь сидишь в четырех стенах всеми оставленный, всеми забытый. Тишину нарушает лишь стук клавиш. Твою комнату наполняет серо-оранжевый свет, ты сидишь в летотреде. Опять. Ты влюблен в образ пионерки. В образ тян, которая тебя любит, которая тебе предана и никогда тебя не бросит. Однако ты твердо уверен, что в жизни с тобой ничего подобного никогда не случалась и случиться не может. Любовь и внимание противоположенного пола для тебя просто пустой звук, ибо это не про тебя. Однако…Помнишь, как ты ехал в автобусе или в метро? Кажется, был ноябрь, а может и апрель. Не важно. Погодка была неважная, лил дождь, дул сильный ветер. Ты сидел уткнувшись в пол, в твоих ушах были наушники-затычки, у тебя было прескверное настроение. Вдруг музыка затихла, вынув наушники, ты поднял голову и приготовился выходить, как вдруг твое внимание привлекла девушка. Может быть она сидела одна, а может быть рядом с ней была болтливая подружка. Она была среднего роста, одета в невзрачную курточку, которых обычно ходят 90% женского населения младше 20 в твоем городе, Из-под шапки с бубончиком торчала прядь фиолетовых волос. Она отводила зеленые глаза, избегая твоего взгляда, и робко улыбалась тебе, краснея от смущения.-Блядь! Ну охуеть теперь, какая-то пизда надо мной смеяться вздумала?! Да пошла она нахуй! - пронеслось в твоей голове. Ты снова включил музыку, прибавил громкости, натянул капюшон и ускорил шаг, спеша выбраться из ненавистного тебе автобуса или вагона метро. А меж тем, Лене стоило огромных усилий побороть природную скромность и просто улыбнуться парню. Девушка осталась сидеть там, в автобусе, на следующей остановке она пулей вылетела из него. Дома ее ждала рефлексия и рыдания в подушку. Твоя паранойя сыграла с тобой злую шутку, на сей раз. В школе над тобой часто глумились, но больше всего рыжая девчонка. «Несносная рыжая блядь» - это первое что пришло бы тебе в голову, если бы тебя попросили охарактеризовать ее тремя словами. А меж тем, она просто провела детство в компании мальчишек и не умела выражать свои чувства по-девичьи. Ей было очень больно, когда ты ушел с выпускного, даже не попрощавшись (или вообще на него не ходил), ведь она до их пор тебя любила. Однажды по дороге куда-то твое внимание привлекла шумная компания студентов. Они сидели на лавочке и громко смеялись, тыкая пальцами в экран планшета. Ты уже почти прошел их, как вдруг:-Эй, парень! Давай познакомимся! – тебя догнала девушка с ярко-красными волосами и взяла за рукав куртки.-Блядь, они издеваться надо мной решили, социобляди ебаные! Небось еще куртку мне испачкала, шалава малолетняя. – подумал ты, грубо отдернул руку и пошел дальше. Девушка осталась стоять посреди парка в полном недоумении.-Блин, почему они всегда так со мной? – расстроено спросила девушка своих друзей.-Да не парься ты так, Ульянка, в следующий раз повезет. А помнишь, как в юношестве ездил в деревню к бабушке или на дачу?Утром ты вышел на крыльцо подышать свежим воздухом. Ты разминал кости и наслаждался свежим воздухом.-Привет городским! – весело раздалось за твоей спиной. Это была голубоглазая девушка с косами, которые напоминали свежее сено. Она проезжала мимо твоего дома на велосипеде.-Бляяяяя! Сука, опять вляпался! Она сказала «городским», теперь меня точно деревенская быдлота отпиздит, отдохнул называется! Хочу в квартирку и за комп поскорее, ебаная деревня, никогда сюда больше не приеду! – подумал ты, влетая обратно в дом. Девушка еще некоторое время стояла и грустно смотрела тебе вслед. Ей здесь очень одиноко, дело в том, что в деревне кроме тебя больше нет ее сверстников. А это значит, ей придется провести остаток каникул совершенно одной. Она опустила голову и медленно проехала твой дом, ее глаза немного намокли от слез. От слез досады. Вот ты сидишь в институте, скоро начнется скучная пара. А у тебя и вовсе поганое настроение. Вдруг к тебе подсаживается девушка с зелеными волосами и азиатской внешностью. Она сходу начинает тебе что-то говорить, однако тебя это только раздражает. Болтушка долго тебе что-то рассказывает.-Блядь, вот пизда-то тупая! Совсем не видит, что у меня настроение не для болтовни. – с этой мыслью ты встаешь и уходишь подальше от нее. Она некоторое время сидит, опустив голову, в абсолютной тишине. Кажется, ты расстроил ее.-Не переживай ты так, он вообще какой-то странный, расист наверное! – успокаивает ее девушка очках, которую ты мысленно окрестил «жируха-яойщица».Ты был так зациклен на собственных неудачах… Робкая улыбка, простое приветствие, милая беседа воспринимались тобой как попытка унижения. Лена улыбнулась тебе и была отвергнута, просто не смогла пробиться сквозь паранойю. Она никогда не сможет забыть тебя, будет ночами вспоминать твой образ еще несколько месяцев. Она полюбила тебя с первого взгляда, а ты ее отверг. Ванна теплой воды. Нож. Пульс слабеет. Алиса любила тебя и после школы. Одиннадцать лет любви и ожидания. Ты просто не смог понять ее. Зато героин с этим справился прекрасно. Передозировка. В те дни в округе орудовал маньяк… Быть может если бы ты тогда попытался поговорить со Славей, то она бы задержалась с тобой не на долго и осталась жива?Ульяне никогда не везло с парнями, все пугались ее гиперактивности. В свой двадцать третий день рождения она решила, что и дальше оставаться девственницей – просто напросто стыдно. По советам подруги она пошла в клуб. Групповое изнасилование, ВИЧ, смерть. Один из подонков оказался сыном какого-то чиновника, их так и не посадили. Наверное, не стоило ее отталкивать?Мику твердо решила, что с ней никто не хочет общаться из-за ее внешности. Многочисленные пластические операции, неудачи, уродство. Ей предстоит провести остаток дней в дурдоме, на почве испорченной внешности у нее развилось несколько психических заболеваний. Тебе уже никогда не обнять Лену, не завернуться с ней в теплый плед и не уснуть вместе с ней в обнимку. Тебе уже никогда не пойти с Алисой на рок концерт. Она уже никогда не сможет слушать выступление любимой группы и крепко держать тебя за руку, периодически смотря тебе в глаза и весело подпрыгивая в такт бодрому ритму гитары. Тебе уже никогда не узнать, что такое в шестнадцать лет проснуться с любимой девушкой на сеновале и почувствовать аромат ее шелковистых светлых волос. Тебе уже никогда не ощутить ее прикосновение, ее нежный взгляд. Тебе уже никогда не оказаться в ее объятиях, ведь Славя мертва. Никто не прогонит твою тоску своими беззаботными разговорами. Никто не поддержит тебя в трудную минуту ласковым словом, никто не будет поднимать тебе настроение своей милой болтовней. Ведь Мику под транквилизаторами не очень разговорчивая. А знаешь что, друг мой? Ты поступил правильно, ведь тебе сказали на оранжево-сером сайте, что тян не нужны, они все подлые и вообще хороших тян не бывает. Ты всегда следовал мудрым советом безликих господ, и только благодаря им, ты спасся от ужасной любви, чудовищной нежности, уродливой заботы и отвратительного счастья. Только благодаря им ты узнал, что если тебе улыбается девушка, то это значит, что ты урод. Только благодаря им ты понял, что если тебе кто-то что-то не говорит в лоб, то этого не может быть в принципе. И пофигу что кто-то просто не умеет выражать чувства, тебя просто травят! Конечно, если с тобой хотят познакомиться на улице, то это 100% травля. С тобой села поболтать девушка? «Я ей что подружка? Пизда тупая!»И конечно, тебя никто не мог полюбить таким какой ты есть, все ждут «Ваньку Ерохина». Что? Пытались познакомиться или заговорить? Да над тобой же издевались! Ты сделал все правильно и получил награду холодная постель, одиночество и шум вентиляторов. Да, теперь все правильно.\n",
            "\n",
            "[85778, '[0.00109678', '0.99890322]']\n",
            "  Ну ты дно. Ну пох. Короче, смотри: как только она приходит к тебе, ты ей сразу водки в вино подлей- пусть расслабится. Короче, как пойдет она конем по борозде, лол, как буркала у нее осоловеют- сразу выкидывай все козыря на бак: хуй-мое, давай, портки сымай- буду тебе курагу облизывать. Ну, короче, уломал ты ее и видишь перед собой эту рыбную ватруху- сразу нападай, блеать! Впиваешся резцами в брухло и начинаешь мурыжить ее, с прирырыкиванием, а патом издаешь яростный рев и типа клитариллу убашишб метлой своей. Уня-ня такой, хлюп-хлюп, она как каракатица извивается, бельма закатывает, а ты, значит по тихому смачиваеш слюной палец, и, типа как тайный ниндзя-шпион в шоколадный рубец пропихиваешь. Засунул палец- из под тишка понюхал его на предмет говна и дальше лобызаешь письку. Ну, а патом переключаешься и хуяришь, как Моцарт, блеать, на двух отверстиях- ту ду дум ту ду дум ту ду ду ду дум дум, понял?\n",
            "\n",
            "[58455, '[0.00113149', '0.99886851]']\n",
            " Игор, ты сука, ты чмо, ты пидор, ты гной блять, ты нахуя Варга убил, сука, как мне теперь новый альбом ждать, чмо всратое?\n",
            "\n",
            "[29372, '[0.00113597', '0.99886403]']\n",
            "  ) ты, как свойственно тупому долбоебу, начал пиздеть про \"ололо убьет током никакая защита ниспасет\"2) тебе, тупому долбоебу, показали пикчу из какой-то книженции для электриков, где приведены средства защиты для конкретных напряжений3) ты, как свойственно тупому долбоебу, даже не понял, к чему тебе пикчу запостили, и ответил на пикчу (про вольты) следующее: \"Какие нахуй килловаты\", таким образом дав всем понять, что ты не понимаешь разницы между ваттами и вольтами4) анон удивился и написал \"А, стоп, ты напряжение в ваттах меряешь? Shi~\"5) на что ты, как свойственно тупому долбоебу, написал типа \"ну не в лошадиных силах же\"Дальше пошло обоссывание тебя и твои жалкие попытки оправдаться, которые приводить здесь не буду по причине убогости.\n",
            "\n",
            "[79976, '[0.00114306', '0.99885694]']\n",
            " > Почему вы, блядь, до сих пор сидите без девушек? Я не имею в виду всратых дрочеров онлайн-игр по 120 кг с прыщами на лице и плечах. Я имею в виду тех, кто выглядит более чем нормально и зачастую вполне себе заебись, но жалуется на то, что он девственник в свои 25. А таких здесь больше, чем дохуя. Мистер асоциальный интроверт, блядь.> Почему вы не можете просто подойти к рендом тян и сказать \"Привет, я Ололош, а как тебя зовут?\", предложить выпить кофе. Она хотя бы не заржёт в голос от этого. Да, анон, всё именно так просто. До остоебенения просто. > Это не очередной тред-толстота типа \"не иметь девушку в 2915 году = быть дауном\", это моя искренняя зависть и непонимание и, сука, ненависть, почему имея всё, что нужно в арсенале - невсратое тело, лицо, одежду и т. д. вы сидите здесь и ставите себя рядом со мной, у кого вообще 0 шансов, не хочу даже говорить почему. > Ты просто не делаешь то, что я в приницпе не могу. Тян смеются надо мной и обходят стороной, взгляды отвращения и презрения давно норма для меня. Каждый раз, когда я слышу женский смех, я думаю, что это про меня. > А ты, сука, ты просто игноришь тян, которые при малейшей инициативе от тебя познакомились бы с тобой. Ты просто проходишь мимо них. Ты сам виноват, уёбок. Потому что я не имею ни достаточной внешности, ни достаточных навыков, ни достаточной статусности для каких-либо отношений. Ну и еще рашкошкуры не нужны.\n",
            "\n",
            "[79771, '[0.00115186', '0.99884814]']\n",
            " Почему вы, блядь, до сих пор сидите без девушек? Я не имею в виду всратых дрочеров онлайн-игр по 120 кг с прыщами на лице и плечах. Я имею в виду тех, кто выглядит более чем нормально и зачастую вполне себе заебись, но жалуется на то, что он девственник в свои 25. А таких здесь больше, чем дохуя. Мистер асоциальный интроверт, блядь. Почему вы не можете просто подойти к рендом тян и сказать \"Привет, я Ололош, а как тебя зовут?\", предложить выпить кофе. Она хотя бы не заржёт в голос от этого. Да, анон, всё именно так просто. До остоебенения просто. Это не очередной тред-толстота типа \"не иметь девушку в 2915 году = быть дауном\", это моя искренняя зависть и непонимание и, сука, ненависть, почему имея всё, что нужно в арсенале - невсратое тело, лицо, одежду и т. д. вы сидите здесь и ставите себя рядом со мной, у кого вообще 0 шансов, не хочу даже говорить почему. Ты просто не делаешь то, что я в приницпе не могу. Тян смеются надо мной и обходят стороной, взгляды отвращения и презрения давно норма для меня. Каждый раз, когда я слышу женский смех, я думаю, что это про меня. А ты, сука, ты просто игноришь тян, которые при малейшей инициативе от тебя познакомились бы с тобой. Ты просто проходишь мимо них. Ты сам виноват, уёбок.\n",
            "\n",
            "[11219, '[0.00120863', '0.99879137]']\n",
            " Сука, такой ты тугой. Ты в одиночестве точку штурмуешь? Другие на карту не смотрят? Ты пропустить вперед ассолтов с саппортами, которые задушат всех помеченных с более эффективного оружия, постреливая по более удалённым целям с ДМР принципиально не в состоянии?> Ты сам себе противоречишь - пишешь, что дилдак поможет тебе с дмр быть менее уязвимым против автоматов, то собираешься его ставить хуй знает где.> пишешь, что дилдак поможет тебе> поможет тебе> тебе СКВАДУ, БЛЯДЬ. КОМАНДЕ. ЭТО КОМАНДНАЯ ИГРА, БЛЯДЬ.\n",
            "\n",
            "[3312, '[0.00135251', '0.99864749]']\n",
            " Рождаешься такой, растешь, учишься ходить. Говоришь первые слова, родители радуются, вот ты уже читаешь по слогам. Тебе интересен весь мир - почему Солнце светит, почему небо синее. Ты задаешь себе эти вопросы, познаешь мир, учишься, вот ты идешь в школу - первые заботы, первая любовь, друзья. День за днем превозмогая сон, встаешь по утрам и идешь учиться, готовишься к экзаменам сдаешь. Портвейн во дворе и первая сигарета, любимые фильмы, любимые книги, любимая музыка. Поступаешь в институт/идешь на работу, каждый день превозмогаешь, пытаясь добиться чего-то. Жизнь полна разочарований, слез, побед и радостей. Тебе 45, за плечами долгие годы печалей и счастья, ты микровселенная, внутри тебя огромный внутренний мир.@Горстка малолетних уебанов убивают тебя за то, что ты не прочь поняшиться по обоюдному согласию с физически развитой половозрелой самкой, не причинив ей совсем никакого вреда.\n",
            "\n",
            "[45133, '[0.00144785', '0.99855215]']\n",
            " Дай угадаю. Тян нужно было идти на семинар в универе, но ты не хотел ее отпускать т. к. она уделяет тебе мало внимания. У тян есть друг по имени Ваня, и ты, конечно же, как истинный неуверенный долбоеб, сложил два и два и понял, что раз тян общается с кем-то еще в этом мире мужского пола кроме тебя, значит она с ним ебется. Закатил ей по этому поводу истерику, а она тебе напомнила, что после того случая с семинаром, ты обещал не ебать ей больше мозги. Но тут тян заявила тебе, что хочет пойти на концерт любимой группы. А ты ведь знаешь как оно бывает, наслушаются своей музыки и потом ебут друг друга, курят гашиш и скачут на хуйцы Ерох. Ну тут ты вообще терпение потерял, как это так, твоя тян проведет целый час не с тобой, ненаглядным, а пойдет на какой-то блядский концерт. Да ты же умрешь от нидостатка внемания за это время! Как так можно? Ну и накатал эту простыню. Куны, которые думают, что это только тян горазды ебать своим возлюбленным мозги — распечатайте ОП-пик, в рамку и на стенку — и перечитывайте, когда будет грустно.\n",
            "\n"
          ],
          "name": "stdout"
        }
      ]
    },
    {
      "cell_type": "markdown",
      "metadata": {
        "id": "5o8qDc_nvB2U"
      },
      "source": [
        "Совпадают 79976 и 79771 тексты остальные отличаются,\n",
        "я бы назвала эти тексты токсичными"
      ]
    },
    {
      "cell_type": "code",
      "metadata": {
        "id": "FmB61x-et7WB"
      },
      "source": [
        "l = []\n",
        "for k in text2:\n",
        "  l.append(k)"
      ],
      "execution_count": 90,
      "outputs": []
    },
    {
      "cell_type": "markdown",
      "metadata": {
        "id": "0u6KkTsLvjZW"
      },
      "source": [
        "Теперь попробую MultinomialNB с векторизацией Tfidf"
      ]
    },
    {
      "cell_type": "code",
      "metadata": {
        "id": "Mworxsxrv8lJ"
      },
      "source": [
        "train, test = train_test_split(data, test_size=0.1, shuffle=True)"
      ],
      "execution_count": 92,
      "outputs": []
    },
    {
      "cell_type": "code",
      "metadata": {
        "id": "cA__ekj-wDsX"
      },
      "source": [
        "train.reset_index(inplace=True)\n",
        "test.reset_index(inplace=True)"
      ],
      "execution_count": 93,
      "outputs": []
    },
    {
      "cell_type": "code",
      "metadata": {
        "id": "7zt2tz8JwN2_"
      },
      "source": [
        "vectorizer = TfidfVectorizer(min_df=5, max_df=0.4)\n",
        "X1 = vectorizer.fit_transform(train.comment)\n",
        "X_test = vectorizer.transform(test.comment)"
      ],
      "execution_count": 94,
      "outputs": []
    },
    {
      "cell_type": "code",
      "metadata": {
        "id": "CYD2eZS_wae6"
      },
      "source": [
        "D = vectorizer.transform(text2)"
      ],
      "execution_count": 95,
      "outputs": []
    },
    {
      "cell_type": "code",
      "metadata": {
        "id": "gCKi2GfswjTd"
      },
      "source": [
        "y = train.toxic.values\n",
        "y_test = test.toxic.values"
      ],
      "execution_count": 96,
      "outputs": []
    },
    {
      "cell_type": "code",
      "metadata": {
        "colab": {
          "base_uri": "https://localhost:8080/"
        },
        "id": "c5qSF9jCwoa5",
        "outputId": "fcfa50c1-4aa7-4c6d-fc7d-5d3765188760"
      },
      "source": [
        "clf = MultinomialNB(alpha=1.)\n",
        "clf.fit(X1, y)\n",
        "preds = clf.predict(X_test)\n",
        "\n",
        "print(classification_report(y_test, preds))"
      ],
      "execution_count": 97,
      "outputs": [
        {
          "output_type": "stream",
          "text": [
            "              precision    recall  f1-score   support\n",
            "\n",
            "         0.0       0.83      0.96      0.89       991\n",
            "         1.0       0.88      0.58      0.70       451\n",
            "\n",
            "    accuracy                           0.84      1442\n",
            "   macro avg       0.86      0.77      0.80      1442\n",
            "weighted avg       0.85      0.84      0.83      1442\n",
            "\n"
          ],
          "name": "stdout"
        }
      ]
    },
    {
      "cell_type": "code",
      "metadata": {
        "id": "Dx4CsXDdw4Kc"
      },
      "source": [
        "probas = clf.predict_proba(D)"
      ],
      "execution_count": 98,
      "outputs": []
    },
    {
      "cell_type": "code",
      "metadata": {
        "colab": {
          "base_uri": "https://localhost:8080/"
        },
        "id": "6yDrLUmjw-9e",
        "outputId": "abb74a7d-61ff-49aa-aca8-f2d567257c5c"
      },
      "source": [
        "probas[0]"
      ],
      "execution_count": 99,
      "outputs": [
        {
          "output_type": "execute_result",
          "data": {
            "text/plain": [
              "array([0.87645533, 0.12354467])"
            ]
          },
          "metadata": {
            "tags": []
          },
          "execution_count": 99
        }
      ]
    },
    {
      "cell_type": "code",
      "metadata": {
        "id": "SI4L0fXMxDyJ"
      },
      "source": [
        "lis = []\n",
        "l = []\n",
        "for i, slot in enumerate(probas):\n",
        "  l.append(i)\n",
        "  for s in str(slot).split():\n",
        "    l.append(s)\n",
        "  lis.append(l)\n",
        "  l = []"
      ],
      "execution_count": 102,
      "outputs": []
    },
    {
      "cell_type": "code",
      "metadata": {
        "id": "WkeX86CVxpVb"
      },
      "source": [
        "lis"
      ],
      "execution_count": null,
      "outputs": []
    },
    {
      "cell_type": "code",
      "metadata": {
        "id": "CxhtSJ0bx6G1"
      },
      "source": [
        "lis.sort(key = lambda x: x[1])"
      ],
      "execution_count": 104,
      "outputs": []
    },
    {
      "cell_type": "code",
      "metadata": {
        "id": "6gbINCg-yPga"
      },
      "source": [
        "l = []\n",
        "for k in text2:\n",
        "  l.append(k)"
      ],
      "execution_count": 106,
      "outputs": []
    },
    {
      "cell_type": "code",
      "metadata": {
        "colab": {
          "base_uri": "https://localhost:8080/"
        },
        "id": "8TegseQex-y4",
        "outputId": "3c5f9099-b077-4e03-9d2b-30d4f9f67570"
      },
      "source": [
        "f = 0\n",
        "for c in lis:\n",
        "  if f < 9:\n",
        "    print(c)\n",
        "    print(l[c[0]])\n",
        "    f += 1"
      ],
      "execution_count": 107,
      "outputs": [
        {
          "output_type": "stream",
          "text": [
            "[41658, '[0.00224247', '0.99775753]']\n",
            " Маня Быдло За щёку Бугурт Бомбануло Пригорел Порвался Припекло Поссал Обоссался Обосрался Найс Кек Унтерок2к16>подразумевая Лол Чувак Кун Тян ПИСАТЬ ТЕКСТЫ @ ВОТ ТАКПроекции Манёвры Оправдания Ротешник Ротеш Зашивайся Пидораха Хохол Либераха+15Стекломой Мясо надо есть с хлебом Ибо Т. к.ТНУСТННЛамповый Щас бы Няшный Тащемта Вещества Трип Любые цитаты из песен летова Врети Годно Годнота Годный Карл Толсто Толстота Жирный Жирнота Соус Молю Пилю прохладную Стори Бампецкий Ольгино, олька Под пледиком Аниму Любое слово + окончание \"блядь\" \"боярин\" \"господин\"Лел/лал/лул/лол Лвл Пруф Сельдь Подмойся Пиздолиз Бабораб Ерохин Альфа(ч) Омега(н) Лоли Шота(что угодно), плиз.(нет) Как что-то плохое Ты бы и собаку Палка о двух концах>мам Чому Проорал Орать Пояснить, поясните Аутировать Мамкин\n",
            "\n",
            "[51892, '[0.0025783', '0.9974217]']\n",
            " Че ебать, еблет закрой. Есть блять тебе по ебалу нахуй. Чмо.>эти оправдания школьника Сука, ты ещё и сразу 4 вебм кинул. Да ты блять хуесос нахуй. Ты чмо блять которое только и может дрочить. Я тебе ебало могу разбить нахуй, я фундаментально тебя сильнее ебать. Я тебя умнее, я тебя сильнее, у меня есть телка, я не всрат, есть деньги и есть блять сука стремление в жизни. А ты просто хуесос А, ну ебать, если бы ты не сказал, то я бы и не запостил. Иди на хуй, ебанат\n",
            "\n",
            "[78161, '[0.0041874', '0.9958126]']\n",
            " Ебаный школьник как ты заебал блядь рот твой ебал пиздуй нахуй отсюда\n",
            "\n",
            "[30710, '[0.00436238', '0.99563762]']\n",
            "  Я ЕБАЛ ТЕБЯ В РОТ ЙОХАН И МАТЬ ТВОЮ ШЛЮХУ СПИДОЗНУЮ ПОШЕЛ НАХУЙ ГНИДА ЕБАНАЯ БЛЯДЬ\n",
            "\n",
            "[51907, '[0.00503275', '0.99496725]']\n",
            "  Обосрался? Ахуеть ты блять чмошник. Вы только посмотрите ебать как он пишет, какие вебм кидает нахуй, да ты ебать всему треду делаешь одолжение что постишь эту блядь. Вот это ты просто ебанат нахуй. Фаг ебать. Я сука первый человек на этой бороде ебать, я нахуй на хуе вертел фагов 1 дня вроде тебя, щенок сука.\n",
            "\n",
            "[83364, '[0.00609306', '0.99390694]']\n",
            " Я ебал твою мамашу Сходи нюхни трусы своего папаши Мразь ты ебучая сука Подставляй свою жопу а ну-ка\n",
            "\n",
            "[8370, '[0.00615236', '0.99384764]']\n",
            " Взрослая Шинобу блять, охуеть пиздец, откуда вы лезете нахуй, сука, ебаааааать, ВЗРОСЛАЯ ШИНОБУ)))) Ой бля все, сука пиздец, ну это уже край блять, А ТАМ ЧЕ С ХРОНОЛОГИЕЙ)))\n",
            "\n",
            "[71840, '[0.0064466', '0.9935534]']\n",
            " Сука дауны блядь. Необучаемые тупые пидорахи.\n",
            "\n",
            "[58455, '[0.00715016', '0.99284984]']\n",
            " Игор, ты сука, ты чмо, ты пидор, ты гной блять, ты нахуя Варга убил, сука, как мне теперь новый альбом ждать, чмо всратое?\n",
            "\n"
          ],
          "name": "stdout"
        }
      ]
    },
    {
      "cell_type": "markdown",
      "metadata": {
        "id": "8RRlonqJydF6"
      },
      "source": [
        "Тексты не совпали, но оба результата можно назвать токсичными"
      ]
    }
  ]
}